{
 "cells": [
  {
   "cell_type": "markdown",
   "id": "romance-reform",
   "metadata": {},
   "source": [
    "Using data from Ives et al. \"Single Channel Probe Utilizing the EGN Model to Estimate Link Parameters for Network Abstraction\"  \n",
    "Demonstrate the idea of using the physical model to compensate for areas where we dont have much data, which could be because of data acquisition causing a bottleneck (so data is collected where we expect large variations) or just due to missing data. "
   ]
  },
  {
   "cell_type": "code",
   "execution_count": 1,
   "id": "revolutionary-pickup",
   "metadata": {},
   "outputs": [],
   "source": [
    "import numpy as np\n",
    "import matplotlib.pyplot as plt\n",
    "import matplotlib\n",
    "import time\n",
    "from sklearn.gaussian_process import GaussianProcessRegressor\n",
    "from sklearn.gaussian_process.kernels import RBF, ConstantKernel as C, WhiteKernel as W\n",
    "from simple_model import simple_model\n",
    "\n",
    "font = { 'family' : 'sans-serif',\n",
    "                'weight' : 'normal',\n",
    "                'size'   : 14}\n",
    "matplotlib.rc('font', **font)"
   ]
  },
  {
   "cell_type": "code",
   "execution_count": 2,
   "id": "cognitive-occasion",
   "metadata": {},
   "outputs": [],
   "source": [
    "data_dir = '/Users/joshnevin/physical_gps/david_data/'\n",
    "snr = np.genfromtxt(open(str(data_dir) + \"snr_david.csv\", \"r\"), delimiter=\",\", dtype =float)\n",
    "pch = np.genfromtxt(open(str(data_dir) + \"power_david.csv\", \"r\"), delimiter=\",\", dtype =float)"
   ]
  },
  {
   "cell_type": "markdown",
   "id": "another-sampling",
   "metadata": {},
   "source": [
    "Play around with the amount of data"
   ]
  },
  {
   "cell_type": "code",
   "execution_count": 3,
   "id": "empirical-slovenia",
   "metadata": {},
   "outputs": [],
   "source": [
    "# snr = snr[:16] # -10 to 5 dBm\n",
    "# pch = pch[:16] \n",
    "snr_comp = snr[:16] # to compare with SSFM\n",
    "pch_comp = pch[:16] \n",
    "# snr = snr[1:14]  # -8 to 4 dBm\n",
    "# pch = pch[1:14]  \n",
    "# snr = snr[3:10] # -6 to 0 dBm  # 3 dBm around peak \n",
    "# pch = pch[3:10] \n",
    "snr = snr[1:15] # -9 to 4 dBm  # 2 dB SNR penalty around the peak \n",
    "pch = pch[1:15] "
   ]
  },
  {
   "cell_type": "code",
   "execution_count": 4,
   "id": "separate-experiment",
   "metadata": {},
   "outputs": [],
   "source": [
    "down_sample_factor = 1\n",
    "snr = np.array([snr[i] for i in range(len(snr)) if i % down_sample_factor == 0])\n",
    "pch = np.array([pch[i] for i in range(len(pch)) if i % down_sample_factor == 0])"
   ]
  },
  {
   "cell_type": "code",
   "execution_count": 5,
   "id": "roman-carnival",
   "metadata": {},
   "outputs": [
    {
     "data": {
      "text/plain": [
       "14"
      ]
     },
     "execution_count": 5,
     "metadata": {},
     "output_type": "execute_result"
    }
   ],
   "source": [
    "len(pch)"
   ]
  },
  {
   "cell_type": "code",
   "execution_count": 6,
   "id": "convinced-province",
   "metadata": {},
   "outputs": [
    {
     "data": {
      "text/plain": [
       "4.0"
      ]
     },
     "execution_count": 6,
     "metadata": {},
     "output_type": "execute_result"
    }
   ],
   "source": [
    "pch[0]"
   ]
  },
  {
   "cell_type": "code",
   "execution_count": 8,
   "id": "breathing-substitute",
   "metadata": {},
   "outputs": [
    {
     "data": {
      "image/png": "[encoded data removed]",
      "text/plain": [
       "<Figure size 432x288 with 1 Axes>"
      ]
     },
     "metadata": {
      "needs_background": "light"
     },
     "output_type": "display_data"
    }
   ],
   "source": [
    "# inds = [0, 4, 8, 12, 15]  # for -10 to 5 dBm\n",
    "# snr_sub = np.array([snr[inds[0]], snr[inds[1]], snr[inds[2]], snr[inds[3]], snr[inds[4]]])\n",
    "# pch_sub = np.array([pch[inds[0]], pch[inds[1]], pch[inds[2]], pch[inds[3]], pch[inds[4]]])\n",
    "# inds = [0, 3, 6, 9, 12]  # for -8 to 4 dBm\n",
    "# snr_sub = np.array([snr[inds[0]], snr[inds[1]], snr[inds[2]], snr[inds[3]], snr[inds[4]]])\n",
    "# pch_sub = np.array([pch[inds[0]], pch[inds[1]], pch[inds[2]], pch[inds[3]], pch[inds[4]]])\n",
    "# inds = [0, 7, 14, -1]  # for -15 to 5 dBm\n",
    "# snr_sub = np.array([snr[inds[0]], snr[inds[1]], snr[inds[2]], snr[inds[3]]])\n",
    "# pch_sub = np.array([pch[inds[0]], pch[inds[1]], pch[inds[2]], pch[inds[3]]])\n",
    "# inds = [0, 3, -1]  # -6 to 0 dBm, three measurements \n",
    "# snr_sub = np.array([snr[inds[0]], snr[inds[1]], snr[inds[2]]])\n",
    "# pch_sub = np.array([pch[inds[0]], pch[inds[1]], pch[inds[2]]])\n",
    "# inds = [0, 2, 4, -1]  # -6 to 0 dBm, four measurements \n",
    "# snr_sub = np.array([snr[inds[0]], snr[inds[1]], snr[inds[2]], snr[inds[3]]])\n",
    "# pch_sub = np.array([pch[inds[0]], pch[inds[1]], pch[inds[2]], pch[inds[3]]])\n",
    "# inds = [0, 2, 3, 4, -1]  # -6 to 0 dBm, five measurements \n",
    "# snr_sub = np.array([snr[inds[0]], snr[inds[1]], snr[inds[2]], snr[inds[3]], snr[inds[4]]])\n",
    "# pch_sub = np.array([pch[inds[0]], pch[inds[1]], pch[inds[2]], pch[inds[3]], pch[inds[4]]])\n",
    "#   # -6 to 0 dBm, seven measurements \n",
    "# snr_sub = np.copy(snr)\n",
    "# pch_sub = np.copy(pch)\n",
    "# inds = [0, 3, 6, 9, -1]  # for -9 to 4 dBm, five meas.\n",
    "# snr_sub = np.array([snr[inds[0]], snr[inds[1]], snr[inds[2]], snr[inds[3]], snr[inds[4]]])\n",
    "# pch_sub = np.array([pch[inds[0]], pch[inds[1]], pch[inds[2]], pch[inds[3]], pch[inds[4]]])\n",
    "# inds = [0, 4, 8, -1]  # for -9 to 4 dBm, four meas.\n",
    "# snr_sub = np.array([snr[inds[0]], snr[inds[1]], snr[inds[2]], snr[inds[3]]])\n",
    "# pch_sub = np.array([pch[inds[0]], pch[inds[1]], pch[inds[2]], pch[inds[3]]])\n",
    "inds = [0, 5, -1]  # for -9 to 4 dBm, three meas.\n",
    "snr_sub = np.array([snr[inds[0]], snr[inds[1]], snr[inds[2]]])\n",
    "pch_sub = np.array([pch[inds[0]], pch[inds[1]], pch[inds[2]]])\n",
    "plt.plot(pch, snr, 'b.', label='Full Data')\n",
    "plt.plot(pch_sub, snr_sub, 'r+', label='Subset')\n",
    "plt.xlabel(\"Power per channel (dBm)\")\n",
    "plt.ylabel(\"SNR (dB)\")\n",
    "plt.legend()\n",
    "plt.show()"
   ]
  },
  {
   "cell_type": "markdown",
   "id": "creative-means",
   "metadata": {},
   "source": [
    "**Inputs**: span length [km], operating central wavelength [nm], number of wavelengths, nonlinearity coefficient, dispersion coefficient, loss [db/km], symbol rate [GBd], channel bandwidth [GHz], grid spacing [GHz], EDFA noise figure [dB], number of spans, TRx back to back SNR mean [dB],  TRx back to back SNR standard dev. [dB], random seed"
   ]
  },
  {
   "cell_type": "code",
   "execution_count": 9,
   "id": "proper-borough",
   "metadata": {},
   "outputs": [
    {
     "data": {
      "text/plain": [
       "-1.0"
      ]
     },
     "execution_count": 9,
     "metadata": {},
     "output_type": "execute_result"
    }
   ],
   "source": [
    "pch[5]"
   ]
  },
  {
   "cell_type": "code",
   "execution_count": 10,
   "id": "differential-greensboro",
   "metadata": {},
   "outputs": [],
   "source": [
    "# def gen_phys_targets(model, pch, num_pts_phys):\n",
    "#     pch_gn = np.linspace(pch[0], pch[-1], num_pts_phys)\n",
    "#     snr_phys = (model.predict_snr(pch_gn)).reshape(-1,1)\n",
    "#     return pch_gn, snr_phys\n",
    "def train_phys_gp(pch, pch_phys, snr, snr_phys, pch_pred):\n",
    "    pch = pch.reshape(-1, 1)  # needed for SK learn input\n",
    "    pch_phys = pch_phys.reshape(-1,1)\n",
    "    pch_pred = pch_pred.reshape(-1,1)\n",
    "    snr = snr.reshape(-1,1)\n",
    "    snr_phys = snr_phys.reshape(-1,1)\n",
    "    kernel_sk = C(1, (1e-5, 1e5)) * RBF(1, (1e-8, 1e5)) +  W(1, (1e-5,1e5))\n",
    "    gpr_phys = GaussianProcessRegressor(kernel=kernel_sk, n_restarts_optimizer = 20, normalize_y=True)\n",
    "    gpr_phys.fit_phys(pch, pch_phys, snr, snr_phys)\n",
    "    mu_sk_phys, std_sk_phys = gpr_phys.predict(pch_pred, return_std=True)\n",
    "    std_sk_phys = np.reshape(std_sk_phys,(np.size(std_sk_phys), 1)) \n",
    "    theta_phys = gpr_phys.kernel_.theta\n",
    "    lml_phys = gpr_phys.log_marginal_likelihood()\n",
    "    return mu_sk_phys, std_sk_phys, theta_phys, lml_phys\n",
    "def train_standard_gp(pch, snr, pch_pred):\n",
    "    pch = pch.reshape(-1, 1)  # needed for SK learn input\n",
    "    snr = snr.reshape(-1,1)\n",
    "    pch_pred = pch_pred.reshape(-1,1)\n",
    "    kernel_sk = C(1, (1e-5, 1e5)) * RBF(1, (1e-5, 1e5)) +  W(1, (1e-8,1e5))\n",
    "    gpr = GaussianProcessRegressor(kernel=kernel_sk, n_restarts_optimizer = 20, normalize_y=True)\n",
    "    gpr.fit(pch, snr)\n",
    "    mu_sk, std_sk = gpr.predict(pch_pred, return_std=True)\n",
    "    std_sk = np.reshape(std_sk,(np.size(std_sk), 1)) \n",
    "    theta = gpr.kernel_.theta\n",
    "    lml = gpr.log_marginal_likelihood()\n",
    "    return mu_sk, std_sk, theta, lml\n",
    "def convert_to_lin(x):\n",
    "    return 10**(x/10)\n",
    "def convert_to_db(x):\n",
    "    return 10*np.log10(x)\n",
    "def convert_to_dbm(x):\n",
    "    return 10*np.log10(x/1e-3)\n",
    "def convert_to_lin_dbm(x):\n",
    "    return 1e-3*convert_to_lin(x)\n",
    "def snr_simple_gen(p_in, a, b, rseed, sig):\n",
    "        np.random.seed(rseed)\n",
    "        p_in = p_in + np.random.normal(0, sig, len(p_in))\n",
    "        p_in = convert_to_lin_dbm(p_in) # W\n",
    "#         return convert_to_db(1/( (a*p_in**(-1) + b*p_in**2) + 1/29.2  ))\n",
    "        return convert_to_db(1/( (a*p_in**(-1) + b*p_in**2) + 1/convert_to_lin(14.8)  ))"
   ]
  },
  {
   "cell_type": "markdown",
   "id": "essential-entrepreneur",
   "metadata": {},
   "source": [
    "David's paper: SNR$^{-1}$ = SNR$^{-1}$ + $\\mathrm{{SNR}_0}^{-1}$  \n",
    "$\\mathrm{{SNR}_0}=29.2=14.7$dB  \n",
    "New model: 1/SNR$_{phys}$ = 1/SNR + N(-14.7, 0.01$\\times$-14.7)"
   ]
  },
  {
   "cell_type": "markdown",
   "id": "innovative-theta",
   "metadata": {},
   "source": [
    "IDEA: Fit simple model to the SSFM results with initial guesses."
   ]
  },
  {
   "cell_type": "code",
   "execution_count": 54,
   "id": "finished-touch",
   "metadata": {},
   "outputs": [],
   "source": [
    "def apply_b2b(snr, b2b):\n",
    "    return convert_to_db(1/(1/convert_to_lin(snr) + 1/convert_to_lin(b2b)))\n",
    "# snr_ssfm = [15.77, 17.71, 19.49, 20.76, 20.64, 18.54, 15.09]  \n",
    "# pch_ssfm = [ -8, -6, -4, -2, 0, 2, 4]\n",
    "# snr_ssfm = [14.78, 20.94, 15.09]  \n",
    "# pch_ssfm = [ -9, -1, 4]\n",
    "snr_ssfm = [15.77, 20.64, 15.09]  \n",
    "pch_ssfm = [ -8, 0, 4]\n",
    "#snr_ssfm_m = [apply_b2b(i, convert_to_db(29.2)) for i in snr_ssfm]\n",
    "snr_ssfm_m = [apply_b2b(i, convert_to_db(convert_to_lin(14.8))) for i in snr_ssfm]"
   ]
  },
  {
   "cell_type": "code",
   "execution_count": 55,
   "id": "successful-patrick",
   "metadata": {},
   "outputs": [],
   "source": [
    "sim_model = simple_model()"
   ]
  },
  {
   "cell_type": "code",
   "execution_count": 56,
   "id": "returning-polish",
   "metadata": {},
   "outputs": [],
   "source": [
    "snr_ssfm = np.array(snr_ssfm)\n",
    "pch_ssfm = np.array(pch_ssfm)\n",
    "snr_ssfm_m = np.array(snr_ssfm_m)"
   ]
  },
  {
   "cell_type": "code",
   "execution_count": 57,
   "id": "otherwise-electricity",
   "metadata": {},
   "outputs": [],
   "source": [
    "opt_vals = sim_model.fit(pch_ssfm.reshape(len(pch_ssfm),), snr_ssfm.reshape(len(snr_ssfm),),\n",
    "                         init_guess = np.array([1e-5, 1e3]))"
   ]
  },
  {
   "cell_type": "code",
   "execution_count": 58,
   "id": "macro-papua",
   "metadata": {},
   "outputs": [
    {
     "name": "stdout",
     "output_type": "stream",
     "text": [
      "4.121731562907489e-06\n",
      "4537.197643412776\n"
     ]
    }
   ],
   "source": [
    "a_opt, b_opt = opt_vals[0]\n",
    "pch_sim_comp = np.linspace(pch[0], pch[-1], 30)\n",
    "snr_sim = snr_simple_gen(pch_sim_comp, a_opt, b_opt, 1, 0.5/3)\n",
    "print(a_opt)\n",
    "print(b_opt)"
   ]
  },
  {
   "cell_type": "code",
   "execution_count": 59,
   "id": "surgical-segment",
   "metadata": {},
   "outputs": [
    {
     "data": {
      "image/png": "[encoded data removed]",
      "text/plain": [
       "<Figure size 432x288 with 1 Axes>"
      ]
     },
     "metadata": {
      "needs_background": "light"
     },
     "output_type": "display_data"
    }
   ],
   "source": [
    "plt.plot(pch_sim_comp, snr_sim, 'b-', label='Phys. model')\n",
    "plt.plot(pch, snr, 'k^', label='Full dataset')\n",
    "#plt.plot(pch_ssfm, snr_ssfm_m, 'r*', label='SSFM')\n",
    "plt.legend() \n",
    "plt.show()"
   ]
  },
  {
   "cell_type": "code",
   "execution_count": 60,
   "id": "exceptional-parliament",
   "metadata": {},
   "outputs": [],
   "source": [
    "#pch_pred_phys = np.linspace(pch[-1], pch[0], 100)\n",
    "pch_pred_phys = np.copy(pch)\n",
    "snr_phys_ensemble = []\n",
    "for i in range(5):\n",
    "    snr_phys_ensemble.append(snr_simple_gen(pch_pred_phys, a_opt, b_opt, i, 0.5/3))"
   ]
  },
  {
   "cell_type": "code",
   "execution_count": 61,
   "id": "worse-luxembourg",
   "metadata": {},
   "outputs": [],
   "source": [
    "snr_phys_ensemble_ave = np.mean(snr_phys_ensemble, axis=0)"
   ]
  },
  {
   "cell_type": "markdown",
   "id": "beginning-craft",
   "metadata": {},
   "source": [
    "Physical model peak prediction (to nearest 1 dBm)"
   ]
  },
  {
   "cell_type": "code",
   "execution_count": 62,
   "id": "ruled-senegal",
   "metadata": {},
   "outputs": [
    {
     "data": {
      "text/plain": [
       "-1.0"
      ]
     },
     "execution_count": 62,
     "metadata": {},
     "output_type": "execute_result"
    }
   ],
   "source": [
    "pch[np.argmax(snr_simple_gen(pch, a_opt, b_opt, i, 1e-3))]"
   ]
  },
  {
   "cell_type": "code",
   "execution_count": 63,
   "id": "spatial-columbus",
   "metadata": {},
   "outputs": [
    {
     "data": {
      "text/plain": [
       "13.7537823867491"
      ]
     },
     "execution_count": 63,
     "metadata": {},
     "output_type": "execute_result"
    }
   ],
   "source": [
    "snr[np.argmax(snr_simple_gen(pch, a_opt, b_opt, i, 1e-3))]"
   ]
  },
  {
   "cell_type": "code",
   "execution_count": 64,
   "id": "downtown-fleet",
   "metadata": {},
   "outputs": [
    {
     "data": {
      "text/plain": [
       "1.074446161744799"
      ]
     },
     "execution_count": 64,
     "metadata": {},
     "output_type": "execute_result"
    }
   ],
   "source": [
    "snr[np.argmax(snr_simple_gen(pch, a_opt, b_opt, i, 1e-3))] - snr[1]"
   ]
  },
  {
   "cell_type": "code",
   "execution_count": 65,
   "id": "freelance-wesley",
   "metadata": {},
   "outputs": [
    {
     "data": {
      "text/plain": [
       "3.0"
      ]
     },
     "execution_count": 65,
     "metadata": {},
     "output_type": "execute_result"
    }
   ],
   "source": [
    "pch[1]"
   ]
  },
  {
   "cell_type": "code",
   "execution_count": 66,
   "id": "sunrise-calgary",
   "metadata": {},
   "outputs": [
    {
     "data": {
      "text/plain": [
       "1.674524281951399"
      ]
     },
     "execution_count": 66,
     "metadata": {},
     "output_type": "execute_result"
    }
   ],
   "source": [
    "snr[np.argmax(snr_simple_gen(pch, a_opt, b_opt, i, 1e-3))] - snr[-2]"
   ]
  },
  {
   "cell_type": "code",
   "execution_count": 69,
   "id": "asian-sussex",
   "metadata": {},
   "outputs": [
    {
     "data": {
      "image/png": "[encoded data removed]",
      "text/plain": [
       "<Figure size 432x288 with 1 Axes>"
      ]
     },
     "metadata": {},
     "output_type": "display_data"
    }
   ],
   "source": [
    "f, ax = plt.subplots()\n",
    "plt.plot(pch_pred_phys, snr_phys_ensemble_ave, 'c-', label='Phys. model average')\n",
    "plt.plot(pch_pred_phys, snr_phys_ensemble[0], 'c+', label='Phys. model ensemble')\n",
    "plt.plot(pch_pred_phys, snr_phys_ensemble[1], 'c+')\n",
    "plt.plot(pch_pred_phys, snr_phys_ensemble[2], 'c+')\n",
    "plt.plot(pch_pred_phys, snr_phys_ensemble[3], 'c+')\n",
    "plt.plot(pch_pred_phys, snr_phys_ensemble[4], 'c+')\n",
    "plt.plot(pch, snr, 'k^', label='Measured SNR')\n",
    "plt.plot(pch_ssfm, snr_ssfm_m, 'r*', label='SSFM')\n",
    "plt.xlim([pch[-1], pch[0]])\n",
    "#plt.xticks([-8, -6, -4, -2, 0, 2, 4])\n",
    "plt.xticks([-9, -7, -5, -3, -1, 1, 3, 4])\n",
    "#plt.ylim([13, 14])\n",
    "plt.xlabel(\"Input power (dBm)\")\n",
    "plt.ylabel(\"SNR (dB)\")\n",
    "plt.legend(prop={'size':10})\n",
    "ax.set_aspect(1.0/ax.get_data_ratio(), adjustable='box')\n",
    "f.patch.set_facecolor('w')\n",
    "plt.grid()\n",
    "plt.savefig('figures/SSFM_phys_model_meas_comp.pdf', dpi=200,bbox_inches='tight')\n",
    "plt.show()"
   ]
  },
  {
   "cell_type": "markdown",
   "id": "apart-bryan",
   "metadata": {},
   "source": [
    "Compute model error w.r.t. full dataset:"
   ]
  },
  {
   "cell_type": "code",
   "execution_count": 70,
   "id": "color-domestic",
   "metadata": {},
   "outputs": [
    {
     "data": {
      "text/plain": [
       "0.12669188342722038"
      ]
     },
     "execution_count": 70,
     "metadata": {},
     "output_type": "execute_result"
    }
   ],
   "source": [
    "mse_phys_model = np.mean(((snr - snr_phys_ensemble_ave)**2)**0.5)\n",
    "mse_phys_model"
   ]
  },
  {
   "cell_type": "code",
   "execution_count": 71,
   "id": "juvenile-bunny",
   "metadata": {},
   "outputs": [],
   "source": [
    "num_pts_phys = 15"
   ]
  },
  {
   "cell_type": "code",
   "execution_count": 72,
   "id": "velvet-fortune",
   "metadata": {},
   "outputs": [],
   "source": [
    "pch_gn_david = np.linspace(pch[0], pch[-1], num_pts_phys)\n",
    "snr_gn_david = snr_simple_gen(pch_gn_david, a_opt, b_opt, 1, 0.5/3)"
   ]
  },
  {
   "cell_type": "code",
   "execution_count": 73,
   "id": "wired-anniversary",
   "metadata": {},
   "outputs": [
    {
     "data": {
      "image/png": "[encoded data removed]",
      "text/plain": [
       "<Figure size 432x288 with 1 Axes>"
      ]
     },
     "metadata": {},
     "output_type": "display_data"
    }
   ],
   "source": [
    "f, ax = plt.subplots()\n",
    "plt.plot(pch, snr, 'k+', label='Full data')\n",
    "plt.plot(pch_gn_david, snr_gn_david, 'gx', label='Phys. model targets')\n",
    "plt.plot(pch_sub, snr_sub, 'co', label='Data targets')\n",
    "plt.xlim([pch[-1], pch[0]])\n",
    "#plt.yticks([10,10.5,11,11.5,12, 12.5, 13, 13.5])\n",
    "#plt.ylim([12, 13.6])\n",
    "plt.xlabel(\"Input power (dBm)\")\n",
    "plt.ylabel(\"SNR (dB)\")\n",
    "plt.legend(prop={'size':10})\n",
    "plt.grid()\n",
    "f.patch.set_facecolor('w')\n",
    "ax.set_aspect(1.0/ax.get_data_ratio(), adjustable='box')\n",
    "#plt.savefig('figures/powershifted_gn_comparison.pdf', dpi=200,bbox_inches='tight')\n",
    "plt.show()"
   ]
  },
  {
   "cell_type": "markdown",
   "id": "confident-demand",
   "metadata": {},
   "source": [
    "Plot the physical model against measured data."
   ]
  },
  {
   "cell_type": "code",
   "execution_count": 74,
   "id": "manual-atlas",
   "metadata": {},
   "outputs": [],
   "source": [
    "pch_test = np.copy(pch_gn_david).reshape(-1,1)\n",
    "snr_phys_test = np.copy(snr_gn_david).reshape(-1,1)\n",
    "#pch_pred = np.linspace(pch[0], pch[-1], 100)\n",
    "pch_pred = np.arange(pch[-1], pch[0]+0.1, 0.1)"
   ]
  },
  {
   "cell_type": "code",
   "execution_count": 75,
   "id": "third-diagnosis",
   "metadata": {},
   "outputs": [],
   "source": [
    "mu_sk_phys, std_sk_phys, theta_phys, lml_phys = train_phys_gp(pch_sub, pch_test, snr_sub, snr_phys_test, pch_pred)\n",
    "mu_sk_p2_phys = mu_sk_phys + 2*std_sk_phys \n",
    "mu_sk_n2_phys = mu_sk_phys - 2*std_sk_phys "
   ]
  },
  {
   "cell_type": "code",
   "execution_count": 76,
   "id": "monthly-circle",
   "metadata": {},
   "outputs": [],
   "source": [
    "mu_sk, std_sk, theta, lml = train_standard_gp(pch_sub, snr_sub, pch_pred)\n",
    "mu_sk_p2 = mu_sk + 2*std_sk \n",
    "mu_sk_n2 = mu_sk - 2*std_sk "
   ]
  },
  {
   "cell_type": "code",
   "execution_count": 77,
   "id": "invalid-dispatch",
   "metadata": {},
   "outputs": [],
   "source": [
    "mu_sk_f, std_sk_f, theta_f, lml_f = train_standard_gp(pch, snr, pch_pred)\n",
    "mu_sk_p2_f = mu_sk_f + 2*std_sk_f \n",
    "mu_sk_n2_f = mu_sk_f - 2*std_sk_f "
   ]
  },
  {
   "cell_type": "code",
   "execution_count": 78,
   "id": "surprised-compact",
   "metadata": {},
   "outputs": [
    {
     "data": {
      "image/png": "[encoded data removed]",
      "text/plain": [
       "<Figure size 432x288 with 1 Axes>"
      ]
     },
     "metadata": {},
     "output_type": "display_data"
    }
   ],
   "source": [
    "f, ax = plt.subplots()\n",
    "ax.plot(pch_pred, mu_sk, 'b:', label = 'Standard GP')\n",
    "ax.plot(pch_pred, mu_sk_f, 'g--', label = 'Standard GP all data')\n",
    "ax.plot(pch_pred, mu_sk_phys, 'r-', label = 'Phys. enhanced GP')\n",
    "#ax.plot(pch_test, snr_phys_test, 'gx', label = 'Phys. model targets')\n",
    "ax.plot(pch_sub, snr_sub,'k^', label = 'Data targets')\n",
    "#ax.plot(pch_shifted, snr,'k+', label='Full data set')\n",
    "#plt.xlim([pch[0]-0.05, pch[-1]+0.05])\n",
    "#plt.xticks([-2.5, -1, 0.5, 2, 3.5 ])\n",
    "#plt.xticks([-6, -4, -2, 0, 2, 4 ])\n",
    "plt.xlabel(\"Input power (dBm)\")\n",
    "plt.ylabel(\"SNR (dB)\")\n",
    "#plt.title(\"Predictive mean comparison\")\n",
    "plt.legend(prop={'size':10})\n",
    "plt.grid()\n",
    "ax.set_aspect(1.0/ax.get_data_ratio(), adjustable='box')\n",
    "f.patch.set_facecolor('w')\n",
    "#plt.savefig('figures/david_pred_mean_comp_ppert.pdf', dpi=200,bbox_inches='tight')\n",
    "plt.show()"
   ]
  },
  {
   "cell_type": "code",
   "execution_count": 80,
   "id": "alleged-passenger",
   "metadata": {},
   "outputs": [
    {
     "data": {
      "image/png": "[encoded data removed]",
      "text/plain": [
       "<Figure size 432x288 with 1 Axes>"
      ]
     },
     "metadata": {},
     "output_type": "display_data"
    }
   ],
   "source": [
    "f, ax = plt.subplots()\n",
    "ax.plot(pch_pred, mu_sk_phys, 'b-', label = 'Predictive mean')\n",
    "#ax.plot(pch_shifted, snr,'k+', label = 'All data')\n",
    "ax.plot(pch_test, snr_phys_test, 'gx', label = 'Phys. model targets')\n",
    "ax.plot(pch_sub, snr_sub,'k^', label = 'Data targets')\n",
    "#ax.plot(pch_shifted, phys_model_snr_plt, 'k:', label = 'Phys. model')\n",
    "ax.fill(np.concatenate([pch_pred, pch_pred[::-1]]),\n",
    "            np.concatenate([mu_sk_p2_phys,\n",
    "                            (mu_sk_n2_phys)[::-1]]),\n",
    "            alpha=0.3, fc='r', ec='None', label='2$\\sigma$ confidence')\n",
    "plt.xlim([pch[-1], pch[0]])\n",
    "#plt.xlim([-8, 4])\n",
    "#plt.ylim([11.5, 14.2])\n",
    "#plt.xticks([-8, -6, -4, -2, 0, 2, 4])\n",
    "plt.xticks([-9, -7, -5, -3, -1, 1, 3, 4])\n",
    "#plt.xticks([-10, -7.5, -5, -2.5, 0, 2.5, 5 ])\n",
    "#plt.xticks([-6, -4, -2, 0, 2, 4])\n",
    "plt.xlabel(\"Input power (dBm)\")\n",
    "plt.ylabel(\"SNR (dB)\")\n",
    "#plt.title(\"Physics-enhanced GP\")\n",
    "plt.legend(prop={'size':10}, loc=4)\n",
    "ax.set_aspect(1.0/ax.get_data_ratio(), adjustable='box')\n",
    "f.patch.set_facecolor('w')\n",
    "#plt.grid()\n",
    "#plt.savefig('figures/david_comp_gn_enhanced_gp_ppert.pdf', dpi=200,bbox_inches='tight')\n",
    "#plt.savefig('figures/final_phys_gp_comp.pdf', dpi=200,bbox_inches='tight')\n",
    "plt.savefig('figures/SSFM_phys_gp_comp.pdf', dpi=200,bbox_inches='tight')\n",
    "plt.show()"
   ]
  },
  {
   "cell_type": "code",
   "execution_count": 81,
   "id": "intensive-contract",
   "metadata": {},
   "outputs": [
    {
     "data": {
      "image/png": "[encoded data removed]",
      "text/plain": [
       "<Figure size 432x288 with 1 Axes>"
      ]
     },
     "metadata": {},
     "output_type": "display_data"
    }
   ],
   "source": [
    "f, ax = plt.subplots()\n",
    "ax.plot(pch_pred, mu_sk, 'b-', label = 'Predictive mean')\n",
    "#ax.plot(pch_shifted, snr,'k+', label = 'All data')\n",
    "ax.plot(pch_sub, snr_sub,'k^', label = 'Data targets')\n",
    "ax.fill(np.concatenate([pch_pred, pch_pred[::-1]]),\n",
    "            np.concatenate([mu_sk_p2,\n",
    "                            (mu_sk_n2)[::-1]]),\n",
    "            alpha=0.3, fc='r', ec='None', label='2$\\sigma$ confidence')\n",
    "plt.xlim([pch[-1], pch[0]])\n",
    "#plt.xticks([-8, -6, -4, -2, 0, 2, 4])\n",
    "#plt.xticks([-10, -7.5, -5, -2.5, 0, 2.5, 5 ])\n",
    "plt.xticks([-9, -7, -5, -3, -1, 1, 3, 4])\n",
    "#plt.ylim([11.3,14.5])\n",
    "plt.xlabel(\"Input power (dBm)\")\n",
    "plt.ylabel(\"SNR (dB)\")\n",
    "#plt.title(\"Normal GP\")\n",
    "plt.legend(loc= 3,prop={'size':10})\n",
    "ax.set_aspect(1.0/ax.get_data_ratio(), adjustable='box')\n",
    "f.patch.set_facecolor('w')\n",
    "#plt.savefig('figures/david_comp_standard_gp_ppert.pdf', dpi=200,bbox_inches='tight')\n",
    "plt.savefig('figures/final_stan_gp_comp.pdf', dpi=200,bbox_inches='tight')\n",
    "plt.show()"
   ]
  },
  {
   "cell_type": "code",
   "execution_count": 72,
   "id": "invisible-rapid",
   "metadata": {},
   "outputs": [],
   "source": [
    "#GN_pred_mean = np.genfromtxt(open(\"shared_data/GN_mu_sk_phys_initbtb.csv\", \"r\"), delimiter=\",\", dtype =float)"
   ]
  },
  {
   "cell_type": "code",
   "execution_count": 82,
   "id": "integrated-negative",
   "metadata": {},
   "outputs": [
    {
     "data": {
      "image/png": "[encoded data removed]",
      "text/plain": [
       "<Figure size 432x288 with 1 Axes>"
      ]
     },
     "metadata": {},
     "output_type": "display_data"
    }
   ],
   "source": [
    "f, ax = plt.subplots()\n",
    "ax.plot(pch_pred, mu_sk_f, 'b-', label = 'Stan. GP pred. mean ')\n",
    "ax.plot(pch_pred, mu_sk_phys, 'r--', label = 'SSFM GP pred. mean')\n",
    "#ax.plot(pch, GN_pred_mean, 'c:', label = 'GN GP pred. mean')\n",
    "ax.plot(pch, snr,'k^', label = 'Full dataset')\n",
    "ax.plot(pch_sub, snr_sub,'g^', label = 'Sparse dataset')\n",
    "# ax.fill(np.concatenate([pch, pch[::-1]]),\n",
    "#             np.concatenate([mu_sk_p2_f,\n",
    "#                             (mu_sk_n2_f)[::-1]]),\n",
    "#             alpha=0.3, fc='r', ec='None', label='2$\\sigma$ confidence')\n",
    "plt.xlim([pch[-1], pch[0]])\n",
    "#plt.xticks([-10, -7.5, -5, -2.5, 0, 2.5, 5 ])\n",
    "#plt.xticks([-8, -6, -4, -2, 0, 2, 4])\n",
    "plt.xticks([-9, -7, -5, -3, -1, 1, 3, 4])\n",
    "#plt.ylim([11.8,14])\n",
    "#plt.xticks([-2.5, -1, 0.5, 2, 3.5 ])\n",
    "#plt.xticks([-6, -4, -2, 0, 2, 4 ])\n",
    "plt.xlabel(\"Input power (dBm)\")\n",
    "plt.ylabel(\"SNR (dB)\")\n",
    "#plt.title(\"Normal GP\")\n",
    "plt.legend(prop={'size':10})\n",
    "ax.set_aspect(1.0/ax.get_data_ratio(), adjustable='box')\n",
    "f.patch.set_facecolor('w')\n",
    "plt.grid()\n",
    "#plt.savefig('figures/david_comp_standard_gp_full_ppert.pdf', dpi=200,bbox_inches='tight')\n",
    "plt.savefig('figures/final_comp_stan_gp_full.pdf', dpi=200,bbox_inches='tight')\n",
    "plt.show()"
   ]
  },
  {
   "cell_type": "markdown",
   "id": "fallen-blues",
   "metadata": {},
   "source": [
    "Compare MSE w.r.t. data for the physical model enhanced GP trained on subset of the data and standard GP trained on full dataset."
   ]
  },
  {
   "cell_type": "markdown",
   "id": "buried-lewis",
   "metadata": {},
   "source": [
    "Make predictions only at data points to compute MSE"
   ]
  },
  {
   "cell_type": "code",
   "execution_count": 83,
   "id": "veterinary-discharge",
   "metadata": {},
   "outputs": [
    {
     "name": "stderr",
     "output_type": "stream",
     "text": [
      "/Users/joshnevin/sklearnforked/scikit-learn/sklearn/gaussian_process/kernels.py:402: ConvergenceWarning: The optimal value found for dimension 0 of parameter k1__k2__length_scale is close to the specified lower bound 1e-05. Decreasing the bound and calling fit again may find a better value.\n",
      "  warnings.warn(\"The optimal value found for \"\n"
     ]
    }
   ],
   "source": [
    "gp_phys_pred, gp_phys_pred_std, _, _ = train_phys_gp(pch_sub, pch_test, snr_sub, snr_phys_test, pch)\n",
    "gp_pred_f, gp_pred_std_f, _, _ = train_standard_gp(pch, snr, pch)\n",
    "gp_pred, gp_pred_std, _, _ = train_standard_gp(pch_sub, snr_sub, pch)"
   ]
  },
  {
   "cell_type": "code",
   "execution_count": 84,
   "id": "covered-cookie",
   "metadata": {},
   "outputs": [],
   "source": [
    "mse_phys = np.mean(((snr - gp_phys_pred)**2)**0.5)"
   ]
  },
  {
   "cell_type": "code",
   "execution_count": 85,
   "id": "stopped-pharmacology",
   "metadata": {},
   "outputs": [],
   "source": [
    "mse_stan_f = np.mean(((snr - gp_pred_f)**2)**0.5)"
   ]
  },
  {
   "cell_type": "code",
   "execution_count": 86,
   "id": "north-happening",
   "metadata": {},
   "outputs": [
    {
     "data": {
      "text/plain": [
       "7.827277587572635"
      ]
     },
     "execution_count": 86,
     "metadata": {},
     "output_type": "execute_result"
    }
   ],
   "source": [
    "100*(mse_phys - mse_stan_f)/mse_stan_f"
   ]
  },
  {
   "cell_type": "markdown",
   "id": "stable-imagination",
   "metadata": {},
   "source": [
    "MSE difference in dB - way below 0.1 dB, which is the smallest level people care about in power budgets."
   ]
  },
  {
   "cell_type": "code",
   "execution_count": 87,
   "id": "technical-flesh",
   "metadata": {},
   "outputs": [
    {
     "data": {
      "text/plain": [
       "0.057930623463885"
      ]
     },
     "execution_count": 87,
     "metadata": {},
     "output_type": "execute_result"
    }
   ],
   "source": [
    "mse_phys - mse_stan_f"
   ]
  },
  {
   "cell_type": "markdown",
   "id": "after-convertible",
   "metadata": {},
   "source": [
    "Relative change in the predictive std (%):"
   ]
  },
  {
   "cell_type": "code",
   "execution_count": 88,
   "id": "rocky-isolation",
   "metadata": {},
   "outputs": [
    {
     "data": {
      "text/plain": [
       "1259.8385326144894"
      ]
     },
     "execution_count": 88,
     "metadata": {},
     "output_type": "execute_result"
    }
   ],
   "source": [
    "100*(np.mean(gp_phys_pred_std) - np.mean(gp_pred_std_f))/np.mean(gp_pred_std_f)"
   ]
  },
  {
   "cell_type": "markdown",
   "id": "saving-cologne",
   "metadata": {},
   "source": [
    "RMSD of the predictive mean of the model with and without physical models:"
   ]
  },
  {
   "cell_type": "code",
   "execution_count": 51,
   "id": "rough-matrix",
   "metadata": {},
   "outputs": [
    {
     "data": {
      "text/plain": [
       "0.23480376540446576"
      ]
     },
     "execution_count": 51,
     "metadata": {},
     "output_type": "execute_result"
    }
   ],
   "source": [
    "np.mean(((mu_sk_f - mu_sk_phys)**2)**0.5)"
   ]
  },
  {
   "cell_type": "markdown",
   "id": "short-fundamental",
   "metadata": {},
   "source": [
    "Mean relative difference (%):"
   ]
  },
  {
   "cell_type": "code",
   "execution_count": 258,
   "id": "smooth-bonus",
   "metadata": {},
   "outputs": [
    {
     "data": {
      "text/plain": [
       "0.09806565859463129"
      ]
     },
     "execution_count": 258,
     "metadata": {},
     "output_type": "execute_result"
    }
   ],
   "source": [
    "np.mean(100*(mu_sk_f - mu_sk_phys)/mu_sk_f)"
   ]
  },
  {
   "cell_type": "code",
   "execution_count": 259,
   "id": "informed-ideal",
   "metadata": {},
   "outputs": [
    {
     "data": {
      "text/plain": [
       "array([2.81346999, 2.26569176, 0.07916203])"
      ]
     },
     "execution_count": 259,
     "metadata": {},
     "output_type": "execute_result"
    }
   ],
   "source": [
    "np.exp(theta_f)  # mu, l, sigma: kernel specified as mu**2 * RBF(l**2) + I sigma**2 "
   ]
  },
  {
   "cell_type": "code",
   "execution_count": 260,
   "id": "expensive-level",
   "metadata": {},
   "outputs": [
    {
     "data": {
      "text/plain": [
       "array([2.78329771, 1.45859718, 0.04156788])"
      ]
     },
     "execution_count": 260,
     "metadata": {},
     "output_type": "execute_result"
    }
   ],
   "source": [
    "np.exp(theta_phys)"
   ]
  },
  {
   "cell_type": "code",
   "execution_count": null,
   "id": "concrete-bacteria",
   "metadata": {},
   "outputs": [],
   "source": []
  },
  {
   "cell_type": "code",
   "execution_count": null,
   "id": "federal-child",
   "metadata": {},
   "outputs": [],
   "source": []
  }
 ],
 "metadata": {
  "kernelspec": {
   "display_name": "Python 3",
   "language": "python",
   "name": "python3"
  },
  "language_info": {
   "codemirror_mode": {
    "name": "ipython",
    "version": 3
   },
   "file_extension": ".py",
   "mimetype": "text/x-python",
   "name": "python",
   "nbconvert_exporter": "python",
   "pygments_lexer": "ipython3",
   "version": "3.8.0"
  }
 },
 "nbformat": 4,
 "nbformat_minor": 5
}
