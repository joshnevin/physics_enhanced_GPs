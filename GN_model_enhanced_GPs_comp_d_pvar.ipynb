{
 "cells": [
  {
   "cell_type": "markdown",
   "id": "romance-reform",
   "metadata": {},
   "source": [
    "Using data from Ives et al. \"Single Channel Probe Utilizing the EGN Model to Estimate Link Parameters for Network Abstraction\"  \n",
    "Demonstrate the idea of using the physical model to compensate for areas where we dont have much data, which could be because of data acquisition causing a bottleneck (so data is collected where we expect large variations) or just due to missing data. "
   ]
  },
  {
   "cell_type": "code",
   "execution_count": 1,
   "id": "revolutionary-pickup",
   "metadata": {},
   "outputs": [],
   "source": [
    "import numpy as np\n",
    "import matplotlib.pyplot as plt\n",
    "import matplotlib\n",
    "import time\n",
    "from sklearn.gaussian_process import GaussianProcessRegressor\n",
    "from sklearn.gaussian_process.kernels import RBF, ConstantKernel as C, WhiteKernel as W\n",
    "from gn_model import GN_model\n",
    "font = { 'family' : 'sans-serif',\n",
    "                'weight' : 'normal',\n",
    "                'size'   : 14}\n",
    "matplotlib.rc('font', **font)"
   ]
  },
  {
   "cell_type": "code",
   "execution_count": 2,
   "id": "cognitive-occasion",
   "metadata": {},
   "outputs": [],
   "source": [
    "data_dir = '/Users/joshnevin/physical_gps/david_data/'\n",
    "snr = np.genfromtxt(open(str(data_dir) + \"snr_david.csv\", \"r\"), delimiter=\",\", dtype =float)\n",
    "pch = np.genfromtxt(open(str(data_dir) + \"power_david.csv\", \"r\"), delimiter=\",\", dtype =float)"
   ]
  },
  {
   "cell_type": "markdown",
   "id": "another-sampling",
   "metadata": {},
   "source": [
    "Play around with the amount of data"
   ]
  },
  {
   "cell_type": "code",
   "execution_count": 3,
   "id": "empirical-slovenia",
   "metadata": {},
   "outputs": [],
   "source": [
    "# snr = snr[:16] # -10 to 5 dBm\n",
    "# pch = pch[:16] \n",
    "snr_comp = snr[:16] # to compare with SSFM\n",
    "pch_comp = pch[:16] \n",
    "# snr = snr[1:14]  # -8 to 4 dBm\n",
    "# pch = pch[1:14] \n",
    "snr = snr[5:12] # -6 to 0 dBm  # 3 dBm around peak \n",
    "pch = pch[5:12] \n",
    "# snr = snr[4:12] # -7 to -3 dBm  # 2 dBm around peak \n",
    "# pch = pch[4:12] "
   ]
  },
  {
   "cell_type": "code",
   "execution_count": 4,
   "id": "separate-experiment",
   "metadata": {},
   "outputs": [],
   "source": [
    "down_sample_factor = 1\n",
    "snr = np.array([snr[i] for i in range(len(snr)) if i % down_sample_factor == 0])\n",
    "pch = np.array([pch[i] for i in range(len(pch)) if i % down_sample_factor == 0])"
   ]
  },
  {
   "cell_type": "code",
   "execution_count": 5,
   "id": "roman-carnival",
   "metadata": {},
   "outputs": [
    {
     "data": {
      "text/plain": [
       "7"
      ]
     },
     "execution_count": 5,
     "metadata": {},
     "output_type": "execute_result"
    }
   ],
   "source": [
    "len(pch)"
   ]
  },
  {
   "cell_type": "code",
   "execution_count": 6,
   "id": "breathing-substitute",
   "metadata": {},
   "outputs": [
    {
     "data": {
      "image/png": "[encoded data removed]",
      "text/plain": [
       "<Figure size 432x288 with 1 Axes>"
      ]
     },
     "metadata": {
      "needs_background": "light"
     },
     "output_type": "display_data"
    }
   ],
   "source": [
    "# inds = [0, 4, 8, 12, 15]  # for -10 to 5 dBm five measurements\n",
    "# snr_sub = np.array([snr[inds[0]], snr[inds[1]], snr[inds[2]], snr[inds[3]], snr[inds[4]]])\n",
    "# pch_sub = np.array([pch[inds[0]], pch[inds[1]], pch[inds[2]], pch[inds[3]], pch[inds[4]]])\n",
    "# inds = [0, 5, 10, 15]  # for -10 to 5 dBm four measurements \n",
    "# snr_sub = np.array([snr[inds[0]], snr[inds[1]], snr[inds[2]], snr[inds[3]]])\n",
    "# pch_sub = np.array([pch[inds[0]], pch[inds[1]], pch[inds[2]], pch[inds[3]]])\n",
    "# inds = [0, 3, 6, 9, 12]  # for -8 to 4 dBm\n",
    "# snr_sub = np.array([snr[inds[0]], snr[inds[1]], snr[inds[2]], snr[inds[3]], snr[inds[4]]])\n",
    "# pch_sub = np.array([pch[inds[0]], pch[inds[1]], pch[inds[2]], pch[inds[3]], pch[inds[4]]])\n",
    "# inds = [0, 7, 14, -1]  # for -15 to 5 dBm, four measurements \n",
    "# snr_sub = np.array([snr[inds[0]], snr[inds[1]], snr[inds[2]], snr[inds[3]]])\n",
    "# pch_sub = np.array([pch[inds[0]], pch[inds[1]], pch[inds[2]], pch[inds[3]]])\n",
    "# inds = [0, 5, 10, 15, -1 ]  # for -15 to 5 dBm, five measurements \n",
    "# snr_sub = np.array([snr[inds[0]], snr[inds[1]], snr[inds[2]], snr[inds[3]], snr[inds[4]]])\n",
    "# pch_sub = np.array([pch[inds[0]], pch[inds[1]], pch[inds[2]], pch[inds[3]], pch[inds[4]]])\n",
    "# inds = [0, 2, 4, -1]  # -6 to 0 dBm, four measurements \n",
    "# snr_sub = np.array([snr[inds[0]], snr[inds[1]], snr[inds[2]], snr[inds[3]]])\n",
    "# pch_sub = np.array([pch[inds[0]], pch[inds[1]], pch[inds[2]], pch[inds[3]]])\n",
    "inds = [0, 3, -1]  # -6 to 0 dBm, three measurements \n",
    "snr_sub = np.array([snr[inds[0]], snr[inds[1]], snr[inds[2]]])\n",
    "pch_sub = np.array([pch[inds[0]], pch[inds[1]], pch[inds[2]]])\n",
    "plt.plot(pch, snr, 'b.', label='Full Data')\n",
    "plt.plot(pch_sub, snr_sub, 'r+', label='Subset')\n",
    "plt.xlabel(\"Power per channel (dBm)\")\n",
    "plt.ylabel(\"SNR (dB)\")\n",
    "plt.legend()\n",
    "plt.show()"
   ]
  },
  {
   "cell_type": "markdown",
   "id": "creative-means",
   "metadata": {},
   "source": [
    "**Inputs**: span length [km], operating central wavelength [nm], number of wavelengths, nonlinearity coefficient, dispersion coefficient, loss [db/km], symbol rate [GBd], channel bandwidth [GHz], grid spacing [GHz], EDFA noise figure [dB], number of spans, TRx back to back SNR mean [dB],  TRx back to back SNR standard dev. [dB], random seed"
   ]
  },
  {
   "cell_type": "code",
   "execution_count": 8,
   "id": "differential-greensboro",
   "metadata": {},
   "outputs": [],
   "source": [
    "# def gen_phys_targets(model, pch, num_pts_phys):\n",
    "#     pch_gn = np.linspace(pch[0], pch[-1], num_pts_phys)\n",
    "#     snr_phys = (model.predict_snr(pch_gn)).reshape(-1,1)\n",
    "#     return pch_gn, snr_phys\n",
    "def train_phys_gp(pch, pch_phys, snr, snr_phys, pch_pred):\n",
    "    pch = pch.reshape(-1, 1)  # needed for SK learn input\n",
    "    pch_phys = pch_phys.reshape(-1,1)\n",
    "    pch_pred = pch_pred.reshape(-1,1)\n",
    "    snr = snr.reshape(-1,1)\n",
    "    snr_phys = snr_phys.reshape(-1,1)\n",
    "    kernel_sk = C(1, (1e-5, 1e5)) * RBF(1, (1e-8, 1e5)) +  W(1, (1e-5,1e5))\n",
    "    gpr_phys = GaussianProcessRegressor(kernel=kernel_sk, n_restarts_optimizer = 20, normalize_y=True)\n",
    "    gpr_phys.fit_phys(pch, pch_phys, snr, snr_phys)\n",
    "    mu_sk_phys, std_sk_phys = gpr_phys.predict(pch_pred, return_std=True)\n",
    "    std_sk_phys = np.reshape(std_sk_phys,(np.size(std_sk_phys), 1)) \n",
    "    theta_phys = gpr_phys.kernel_.theta\n",
    "    lml_phys = gpr_phys.log_marginal_likelihood()\n",
    "    return mu_sk_phys, std_sk_phys, theta_phys, lml_phys\n",
    "def train_standard_gp(pch, snr, pch_pred):\n",
    "    pch = pch.reshape(-1, 1)  # needed for SK learn input\n",
    "    snr = snr.reshape(-1,1)\n",
    "    pch_pred = pch_pred.reshape(-1,1)\n",
    "    kernel_sk = C(1, (1e-5, 1e5)) * RBF(1, (1e-5, 1e5)) +  W(1, (1e-8,1e5))\n",
    "    gpr = GaussianProcessRegressor(kernel=kernel_sk, n_restarts_optimizer = 20, normalize_y=True)\n",
    "    gpr.fit(pch, snr)\n",
    "    mu_sk, std_sk = gpr.predict(pch_pred, return_std=True)\n",
    "    std_sk = np.reshape(std_sk,(np.size(std_sk), 1)) \n",
    "    theta = gpr.kernel_.theta\n",
    "    lml = gpr.log_marginal_likelihood()\n",
    "    return mu_sk, std_sk, theta, lml\n",
    "def convert_to_lin(x):\n",
    "    return 10**(x/10)\n",
    "def convert_to_db(x):\n",
    "    return 10*np.log10(x)\n",
    "def convert_to_dbm(x):\n",
    "    return 10*np.log10(x/1e-3)\n",
    "def convert_to_lin_dbm(x):\n",
    "    return 1e-3*convert_to_lin(x)\n",
    "def predict_snr_david(pch, model, rseed, sig):\n",
    "    np.random.seed(rseed)\n",
    "    pch_pert = pch + np.random.normal(0, sig, len(pch))\n",
    "    ASE_0_david = 4.3e-4*1e-3 # W\n",
    "    #ASE = phys_model.calc_Pase()\n",
    "    ASE = phys_model.calc_Pase_Nsp(25)\n",
    "    Pnli = phys_model.calc_eta(pch_pert)*(convert_to_lin_dbm(pch_pert)**3)\n",
    "    #Pnli = phys_model.calc_eta_egn(pch_pert)*(convert_to_lin_dbm(pch_pert)**3)\n",
    "#     trx_btb = 1/29.2\n",
    "#     return convert_to_db(1/(1/(convert_to_lin_dbm(pch_pert)/(ASE_0_david*10 + Pnli)) + trx_btb )) # paper values\n",
    "    #trx_btb = 1/29.2\n",
    "    trx_btb = 1/convert_to_lin(14.7)\n",
    "    return convert_to_db(1/(1/(convert_to_lin_dbm(pch_pert)/(ASE + Pnli)) + trx_btb )) # values from formula"
   ]
  },
  {
   "cell_type": "markdown",
   "id": "essential-entrepreneur",
   "metadata": {},
   "source": [
    "David's paper: SNR$^{-1}$ = SNR$^{-1}$ + $\\mathrm{{SNR}_0}^{-1}$  \n",
    "$\\mathrm{{SNR}_0}=29.2=14.7$dB  \n",
    "New model: 1/SNR$_{phys}$ = 1/SNR + N(-14.7, 0.01$\\times$-14.7)"
   ]
  },
  {
   "cell_type": "markdown",
   "id": "purple-corner",
   "metadata": {},
   "source": [
    "Comments from David - the bandwidth used to infer the NF from the fitted ASE noise term is equal to the symbol rate of 11.5 GBd.  \n",
    "\n",
    "\"It says the receiver filter bandwidth. What I mean is the noise bandwidth used depends on the receiver matched filter. Assuming the DSP adapts to the ideal matched filter then for white noise the effective noise bandwidth would be equal to the symbol rate. The actual signal will be broader than this but for the noise the equivalent rectangular shape will have a width equal to the symbol rate. So for example the ASE noise impacting the result will be equal to the PSD of the ASE times the symbol rate. And the signal will be the total power.\""
   ]
  },
  {
   "cell_type": "markdown",
   "id": "secure-commercial",
   "metadata": {},
   "source": [
    "**Inputs**: span length [km], operating central wavelength [nm], number of wavelengths, nonlinearity coefficient[1/(W*km)], dispersion coefficient[ps^2/km], loss [db/km], symbol rate [GBd], channel bandwidth [GHz], grid spacing [GHz], EDFA noise figure [dB], number of spans, TRx back to back NSR [dB], TRx back to back NSR std [dB], random seed "
   ]
  },
  {
   "cell_type": "code",
   "execution_count": 9,
   "id": "painted-store",
   "metadata": {},
   "outputs": [],
   "source": [
    "placeholder = 1\n",
    "#phys_model = GN_model(100, 1550, 1, 0.72, 18, 0.2, 11.5, 40.2, 50, 3, 10, placeholder, placeholder, 4)\n",
    "#phys_model = GN_model(100, 1550, 1, 0.72, 16.5, 0.2, 11.5, 41.6, 50, 4.6, 10, placeholder, placeholder, 4)\n",
    "phys_model = GN_model(100, 1550, 1, 1.2, 17, 0.2, 11.5, 41.6, 50, 4.6, 10, placeholder, placeholder, 4)"
   ]
  },
  {
   "cell_type": "code",
   "execution_count": 10,
   "id": "written-frost",
   "metadata": {},
   "outputs": [],
   "source": [
    "pch_gn_comp = np.linspace(pch[0], pch[-1], 30)\n",
    "snr_phys_david = predict_snr_david(pch_gn_comp, phys_model, 2, 0.5/3)  # ASE and TRx back to back noise are both given by paper"
   ]
  },
  {
   "cell_type": "code",
   "execution_count": 11,
   "id": "finished-touch",
   "metadata": {},
   "outputs": [],
   "source": [
    "def apply_b2b(snr, b2b):\n",
    "    return convert_to_db(1/(1/convert_to_lin(snr) + 1/convert_to_lin(b2b)))\n",
    "# snr_ssfm = [13.78, 14.78, 15.75, 16.74, 17.7, 18.63, 19.52, 20.26, 20.8, 20.98, 20.73, 19.94, 18.7, 17.09, 15.26, 13.28]  \n",
    "# pch_ssfm = [-10, -9, -8, -7, -6, -5, -4, -3, -2, -1, 0, 1, 2, 3, 4, 5]\n",
    "snr_ssfm = [13.78, 20.92, 13.04]  \n",
    "pch_ssfm = [-10, -1, 5]\n",
    "snr_ssfm_m = [apply_b2b(i, convert_to_db(29.2)) for i in snr_ssfm]\n",
    "#snr_ssfm_m = [apply_b2b(i, 14.7) for i in snr_ssfm]"
   ]
  },
  {
   "cell_type": "code",
   "execution_count": 12,
   "id": "ceramic-paraguay",
   "metadata": {},
   "outputs": [],
   "source": [
    "snr_phys_ensemble = []\n",
    "for i in range(5):\n",
    "    snr_phys_ensemble.append(predict_snr_david(pch, phys_model, i, 0.5/3))"
   ]
  },
  {
   "cell_type": "code",
   "execution_count": 13,
   "id": "dried-terminal",
   "metadata": {},
   "outputs": [
    {
     "data": {
      "text/plain": [
       "7"
      ]
     },
     "execution_count": 13,
     "metadata": {},
     "output_type": "execute_result"
    }
   ],
   "source": [
    "snr_phys_ensemble_ave = np.mean(snr_phys_ensemble, axis=0)\n",
    "len(snr_phys_ensemble_ave)"
   ]
  },
  {
   "cell_type": "markdown",
   "id": "mysterious-procurement",
   "metadata": {},
   "source": [
    "Estimate peak position from GN model:\n",
    "Will choose the measurements based on a priori knowledge, i.e. from -5 to -1 dBm (2 dB power penalty) "
   ]
  },
  {
   "cell_type": "code",
   "execution_count": 14,
   "id": "amber-limitation",
   "metadata": {},
   "outputs": [
    {
     "data": {
      "text/plain": [
       "-3.0"
      ]
     },
     "execution_count": 14,
     "metadata": {},
     "output_type": "execute_result"
    }
   ],
   "source": [
    "pch[np.argmax(snr_phys_ensemble_ave)]"
   ]
  },
  {
   "cell_type": "code",
   "execution_count": 15,
   "id": "asian-sussex",
   "metadata": {},
   "outputs": [
    {
     "data": {
      "image/png": "[encoded data removed]",
      "text/plain": [
       "<Figure size 432x288 with 1 Axes>"
      ]
     },
     "metadata": {},
     "output_type": "display_data"
    }
   ],
   "source": [
    "f, ax = plt.subplots()\n",
    "#plt.plot(pch_comp, snr_comp, 'k^', label='Measured SNR')\n",
    "#plt.plot(pch_gn_comp, snr_phys_david, 'b-', label='Phys. model')\n",
    "plt.plot(pch, snr_phys_ensemble_ave, 'c-', label='Phys. model average')\n",
    "plt.plot(pch, snr_phys_ensemble[0], 'c+', label='Phys. model ensemble')\n",
    "plt.plot(pch, snr_phys_ensemble[1], 'c+')\n",
    "plt.plot(pch, snr_phys_ensemble[2], 'c+')\n",
    "plt.plot(pch, snr_phys_ensemble[3], 'c+')\n",
    "plt.plot(pch, snr_phys_ensemble[4], 'c+')\n",
    "#plt.plot(pch_gn_comp, snr_phys_ensemble[5], 'b.')\n",
    "plt.plot(pch, snr, 'k^', label='Measured SNR')\n",
    "#plt.plot(pch_ssfm[2:-1], snr_ssfm_m[2:-1], 'r*', label = 'SSFM')\n",
    "# plt.plot(pch_comp, snr_comp, 'k^', label='Measured SNR')\n",
    "#plt.plot(pch_ssfm, snr_ssfm_m, 'r*', label = 'SSFM')\n",
    "#plt.plot(pch_gn_example, snr_phys_example, 'b-', label='Phys. model')\n",
    "plt.xlim([pch[-1], pch[0]])\n",
    "#plt.xticks([-8, -6, -4, -2, 0, 2, 4])\n",
    "#plt.xticks([-10, -7.5, -5, -2.5, 0, 2.5, 5 ])\n",
    "#plt.ylim([11.5, 14])\n",
    "plt.xlabel(\"Input power (dBm)\")\n",
    "plt.ylabel(\"SNR (dB)\")\n",
    "plt.legend(prop={'size':10})\n",
    "ax.set_aspect(1.0/ax.get_data_ratio(), adjustable='box')\n",
    "f.patch.set_facecolor('w')\n",
    "plt.grid()\n",
    "#plt.savefig('figures/david_gn_measurements_comp_ppert.pdf', dpi=200,bbox_inches='tight')\n",
    "#plt.savefig('figures/final_phys_model_meas_comp.pdf', dpi=200,bbox_inches='tight')\n",
    "#plt.savefig('figures/ssfm_comp_david.pdf', dpi=200,bbox_inches='tight')\n",
    "#plt.savefig('figures/GN_phys_model_meas_comp.pdf', dpi=200,bbox_inches='tight')\n",
    "#plt.savefig('figures/GN_phys_model_856db_b2b.pdf', dpi=200,bbox_inches='tight')\n",
    "plt.show()"
   ]
  },
  {
   "cell_type": "code",
   "execution_count": 16,
   "id": "juvenile-bunny",
   "metadata": {},
   "outputs": [],
   "source": [
    "num_pts_phys = 15"
   ]
  },
  {
   "cell_type": "code",
   "execution_count": 17,
   "id": "velvet-fortune",
   "metadata": {},
   "outputs": [],
   "source": [
    "pch_gn_david = np.linspace(pch[0], pch[-1], num_pts_phys)\n",
    "snr_gn_david = predict_snr_david(pch_gn_david, phys_model, 1, 0.5/3)"
   ]
  },
  {
   "cell_type": "code",
   "execution_count": 18,
   "id": "wired-anniversary",
   "metadata": {},
   "outputs": [
    {
     "data": {
      "image/png": "[encoded data removed]",
      "text/plain": [
       "<Figure size 432x288 with 1 Axes>"
      ]
     },
     "metadata": {},
     "output_type": "display_data"
    }
   ],
   "source": [
    "f, ax = plt.subplots()\n",
    "plt.plot(pch, snr, 'k+', label='Full data')\n",
    "plt.plot(pch_gn_david, snr_gn_david, 'gx', label='Phys. model targets')\n",
    "plt.plot(pch_sub, snr_sub, 'co', label='Data targets')\n",
    "plt.xlim([pch[-1], pch[0]])\n",
    "#plt.yticks([10,10.5,11,11.5,12, 12.5, 13, 13.5])\n",
    "#plt.ylim([12, 13.6])\n",
    "plt.xlabel(\"Input power (dBm)\")\n",
    "plt.ylabel(\"SNR (dB)\")\n",
    "plt.legend(prop={'size':10})\n",
    "plt.grid()\n",
    "f.patch.set_facecolor('w')\n",
    "ax.set_aspect(1.0/ax.get_data_ratio(), adjustable='box')\n",
    "#plt.savefig('figures/powershifted_gn_comparison.pdf', dpi=200,bbox_inches='tight')\n",
    "plt.show()"
   ]
  },
  {
   "cell_type": "markdown",
   "id": "confident-demand",
   "metadata": {},
   "source": [
    "Plot the physical model against measured data."
   ]
  },
  {
   "cell_type": "code",
   "execution_count": 24,
   "id": "manual-atlas",
   "metadata": {},
   "outputs": [],
   "source": [
    "pch_test = np.copy(pch_gn_david).reshape(-1,1)\n",
    "snr_phys_test = np.copy(snr_gn_david).reshape(-1,1)\n",
    "pch_pred = np.arange(pch[-1], pch[0]+0.1, 0.1)"
   ]
  },
  {
   "cell_type": "code",
   "execution_count": 25,
   "id": "third-diagnosis",
   "metadata": {},
   "outputs": [],
   "source": [
    "mu_sk_phys, std_sk_phys, theta_phys, lml_phys = train_phys_gp(pch_sub, pch_test, snr_sub, snr_phys_test, pch_pred)\n",
    "mu_sk_p2_phys = mu_sk_phys + 2*std_sk_phys \n",
    "mu_sk_n2_phys = mu_sk_phys - 2*std_sk_phys "
   ]
  },
  {
   "cell_type": "code",
   "execution_count": 26,
   "id": "monthly-circle",
   "metadata": {},
   "outputs": [],
   "source": [
    "mu_sk, std_sk, theta, lml = train_standard_gp(pch_sub, snr_sub, pch_pred)\n",
    "mu_sk_p2 = mu_sk + 2*std_sk \n",
    "mu_sk_n2 = mu_sk - 2*std_sk "
   ]
  },
  {
   "cell_type": "code",
   "execution_count": 27,
   "id": "invalid-dispatch",
   "metadata": {},
   "outputs": [],
   "source": [
    "mu_sk_f, std_sk_f, theta_f, lml_f = train_standard_gp(pch, snr, pch_pred)\n",
    "mu_sk_p2_f = mu_sk_f + 2*std_sk_f \n",
    "mu_sk_n2_f = mu_sk_f - 2*std_sk_f "
   ]
  },
  {
   "cell_type": "code",
   "execution_count": 29,
   "id": "surprised-compact",
   "metadata": {},
   "outputs": [
    {
     "data": {
      "image/png": "[encoded data removed]",
      "text/plain": [
       "<Figure size 432x288 with 1 Axes>"
      ]
     },
     "metadata": {},
     "output_type": "display_data"
    }
   ],
   "source": [
    "f, ax = plt.subplots()\n",
    "\n",
    "ax.plot(pch_pred, mu_sk_f, 'g--', label = 'Standard GP all data')\n",
    "ax.plot(pch_pred, mu_sk_phys, 'r-', label = 'Phys. enhanced GP')\n",
    "ax.plot(pch_pred, mu_sk, 'b:', label = 'Standard GP')\n",
    "#ax.plot(pch_test, snr_phys_test, 'gx', label = 'Phys. model targets')\n",
    "ax.plot(pch_sub, snr_sub,'k^', label = 'Data targets')\n",
    "#ax.plot(pch_shifted, snr,'k+', label='Full data set')\n",
    "#plt.xlim([pch[0]-0.05, pch[-1]+0.05])\n",
    "#plt.xticks([-2.5, -1, 0.5, 2, 3.5 ])\n",
    "#plt.xticks([-6, -4, -2, 0, 2, 4 ])\n",
    "plt.xlabel(\"Input power (dBm)\")\n",
    "plt.ylabel(\"SNR (dB)\")\n",
    "#plt.title(\"Predictive mean comparison\")\n",
    "plt.legend(prop={'size':10})\n",
    "plt.grid()\n",
    "ax.set_aspect(1.0/ax.get_data_ratio(), adjustable='box')\n",
    "f.patch.set_facecolor('w')\n",
    "#plt.savefig('figures/david_pred_mean_comp_ppert.pdf', dpi=200,bbox_inches='tight')\n",
    "plt.show()"
   ]
  },
  {
   "cell_type": "code",
   "execution_count": 30,
   "id": "nuclear-dance",
   "metadata": {},
   "outputs": [],
   "source": [
    "np.savetxt(\"shared_data/GN_mu_sk_phys_initbtb.csv\", mu_sk_phys, delimiter=',')"
   ]
  },
  {
   "cell_type": "code",
   "execution_count": 31,
   "id": "alleged-passenger",
   "metadata": {},
   "outputs": [
    {
     "data": {
      "image/png": "[encoded data removed]",
      "text/plain": [
       "<Figure size 432x288 with 1 Axes>"
      ]
     },
     "metadata": {},
     "output_type": "display_data"
    }
   ],
   "source": [
    "f, ax = plt.subplots()\n",
    "ax.plot(pch_pred, mu_sk_phys, 'b-', label = 'Predictive mean')\n",
    "#ax.plot(pch_shifted, snr,'k+', label = 'All data')\n",
    "ax.plot(pch_test, snr_phys_test, 'gx', label = 'Phys. model targets')\n",
    "ax.plot(pch_sub, snr_sub,'k^', label = 'Data targets')\n",
    "#ax.plot(pch_shifted, phys_model_snr_plt, 'k:', label = 'Phys. model')\n",
    "ax.fill(np.concatenate([pch_pred, pch_pred[::-1]]),\n",
    "            np.concatenate([mu_sk_p2_phys,\n",
    "                            (mu_sk_n2_phys)[::-1]]),\n",
    "            alpha=0.3, fc='r', ec='None', label='2$\\sigma$ confidence')\n",
    "#plt.xlim([pch[-1], pch[0]])\n",
    "#plt.xlim([-8, 4])\n",
    "#plt.ylim([8.5, 14.5])\n",
    "#plt.xticks([-8, -6, -4, -2, 0, 2, 4])\n",
    "#plt.xticks([-10, -7.5, -5, -2.5, 0, 2.5, 5 ])\n",
    "#plt.xticks([-6, -4, -2, 0, 2, 4])\n",
    "plt.xlabel(\"Input power (dBm)\")\n",
    "plt.ylabel(\"SNR (dB)\")\n",
    "#plt.title(\"Physics-enhanced GP\")\n",
    "plt.legend(prop={'size':10})\n",
    "ax.set_aspect(1.0/ax.get_data_ratio(), adjustable='box')\n",
    "f.patch.set_facecolor('w')\n",
    "#plt.grid()\n",
    "#plt.savefig('figures/david_comp_gn_enhanced_gp_ppert.pdf', dpi=200,bbox_inches='tight')\n",
    "#plt.savefig('figures/final_phys_gp_comp.pdf', dpi=200,bbox_inches='tight')\n",
    "#plt.savefig('figures/GN_phys_gp_comp.pdf', dpi=200,bbox_inches='tight')\n",
    "plt.show()"
   ]
  },
  {
   "cell_type": "code",
   "execution_count": 32,
   "id": "intensive-contract",
   "metadata": {},
   "outputs": [
    {
     "data": {
      "image/png": "[encoded data removed]",
      "text/plain": [
       "<Figure size 432x288 with 1 Axes>"
      ]
     },
     "metadata": {},
     "output_type": "display_data"
    }
   ],
   "source": [
    "f, ax = plt.subplots()\n",
    "ax.plot(pch_pred, mu_sk, 'b-', label = 'Predictive mean')\n",
    "#ax.plot(pch_shifted, snr,'k+', label = 'All data')\n",
    "ax.plot(pch_sub, snr_sub,'k^', label = 'Data targets')\n",
    "ax.fill(np.concatenate([pch_pred, pch_pred[::-1]]),\n",
    "            np.concatenate([mu_sk_p2,\n",
    "                            (mu_sk_n2)[::-1]]),\n",
    "            alpha=0.3, fc='r', ec='None', label='2$\\sigma$ confidence')\n",
    "plt.xlim([pch[-1], pch[0]])\n",
    "#plt.xticks([-8, -6, -4, -2, 0, 2, 4])\n",
    "#plt.xticks([-10, -7.5, -5, -2.5, 0, 2.5, 5 ])\n",
    "#plt.ylim([11.3,14.5])\n",
    "plt.xlabel(\"Input power (dBm)\")\n",
    "plt.ylabel(\"SNR (dB)\")\n",
    "#plt.title(\"Normal GP\")\n",
    "plt.legend(loc= 3,prop={'size':10})\n",
    "ax.set_aspect(1.0/ax.get_data_ratio(), adjustable='box')\n",
    "f.patch.set_facecolor('w')\n",
    "#plt.savefig('figures/david_comp_standard_gp_ppert.pdf', dpi=200,bbox_inches='tight')\n",
    "#plt.savefig('figures/final_stan_gp_comp.pdf', dpi=200,bbox_inches='tight')\n",
    "plt.show()"
   ]
  },
  {
   "cell_type": "code",
   "execution_count": 33,
   "id": "integrated-negative",
   "metadata": {},
   "outputs": [
    {
     "data": {
      "image/png": "[encoded data removed]",
      "text/plain": [
       "<Figure size 432x288 with 1 Axes>"
      ]
     },
     "metadata": {},
     "output_type": "display_data"
    }
   ],
   "source": [
    "f, ax = plt.subplots()\n",
    "ax.plot(pch_pred, mu_sk_f, 'b-', label = 'Stan. GP pred. mean ')\n",
    "ax.plot(pch_pred, mu_sk_phys, 'r--', label = 'Phys. GP pred. mean')\n",
    "ax.plot(pch, snr,'k^', label = 'Full dataset')\n",
    "ax.plot(pch_sub, snr_sub,'g^', label = 'Sparse dataset')\n",
    "# ax.fill(np.concatenate([pch, pch[::-1]]),\n",
    "#             np.concatenate([mu_sk_p2_f,\n",
    "#                             (mu_sk_n2_f)[::-1]]),\n",
    "#             alpha=0.3, fc='r', ec='None', label='2$\\sigma$ confidence')\n",
    "plt.xlim([pch[-1], pch[0]])\n",
    "#plt.xticks([-10, -7.5, -5, -2.5, 0, 2.5, 5 ])\n",
    "#plt.xticks([-8, -6, -4, -2, 0, 2, 4])\n",
    "#plt.ylim([11.8,14])\n",
    "#plt.xticks([-2.5, -1, 0.5, 2, 3.5 ])\n",
    "#plt.xticks([-6, -4, -2, 0, 2, 4 ])\n",
    "plt.xlabel(\"Input power (dBm)\")\n",
    "plt.ylabel(\"SNR (dB)\")\n",
    "#plt.title(\"Normal GP\")\n",
    "plt.legend(prop={'size':10})\n",
    "ax.set_aspect(1.0/ax.get_data_ratio(), adjustable='box')\n",
    "f.patch.set_facecolor('w')\n",
    "plt.grid()\n",
    "#plt.savefig('figures/david_comp_standard_gp_full_ppert.pdf', dpi=200,bbox_inches='tight')\n",
    "#plt.savefig('figures/final_comp_stan_gp_full.pdf', dpi=200,bbox_inches='tight')\n",
    "plt.show()"
   ]
  },
  {
   "cell_type": "markdown",
   "id": "fallen-blues",
   "metadata": {},
   "source": [
    "Compare MSE w.r.t. data for the physical model enhanced GP trained on subset of the data and standard GP trained on full dataset."
   ]
  },
  {
   "cell_type": "code",
   "execution_count": 34,
   "id": "covered-cookie",
   "metadata": {},
   "outputs": [],
   "source": [
    "mse_phys = np.mean(((snr - mu_sk_phys)**2)**0.5)"
   ]
  },
  {
   "cell_type": "code",
   "execution_count": 35,
   "id": "stopped-pharmacology",
   "metadata": {},
   "outputs": [],
   "source": [
    "mse_stan_f = np.mean(((snr - mu_sk_f)**2)**0.5)"
   ]
  },
  {
   "cell_type": "code",
   "execution_count": 36,
   "id": "likely-webcam",
   "metadata": {},
   "outputs": [],
   "source": [
    "mse_stan = np.mean(((snr - mu_sk)**2)**0.5)"
   ]
  },
  {
   "cell_type": "code",
   "execution_count": 37,
   "id": "north-happening",
   "metadata": {},
   "outputs": [
    {
     "data": {
      "text/plain": [
       "1.9516382573733102"
      ]
     },
     "execution_count": 37,
     "metadata": {},
     "output_type": "execute_result"
    }
   ],
   "source": [
    "100*(mse_phys - mse_stan_f)/mse_stan_f"
   ]
  },
  {
   "cell_type": "markdown",
   "id": "stable-imagination",
   "metadata": {},
   "source": [
    "MSE difference in dB - way below 0.1 dB, which is the smallest level people care about in power budgets."
   ]
  },
  {
   "cell_type": "code",
   "execution_count": 38,
   "id": "technical-flesh",
   "metadata": {},
   "outputs": [
    {
     "data": {
      "text/plain": [
       "0.005748403404831737"
      ]
     },
     "execution_count": 38,
     "metadata": {},
     "output_type": "execute_result"
    }
   ],
   "source": [
    "mse_phys - mse_stan_f"
   ]
  },
  {
   "cell_type": "markdown",
   "id": "ready-johnston",
   "metadata": {},
   "source": [
    "Only 1% relative difference in the MSE between the physics-enhanced GP and the standard GP trained on the full dataset! "
   ]
  },
  {
   "cell_type": "code",
   "execution_count": 186,
   "id": "technological-shift",
   "metadata": {},
   "outputs": [
    {
     "data": {
      "text/plain": [
       "5.0465725990071135"
      ]
     },
     "execution_count": 186,
     "metadata": {},
     "output_type": "execute_result"
    }
   ],
   "source": [
    "100*(mse_phys - mse_stan)/mse_stan"
   ]
  },
  {
   "cell_type": "code",
   "execution_count": null,
   "id": "musical-consolidation",
   "metadata": {},
   "outputs": [],
   "source": []
  },
  {
   "cell_type": "code",
   "execution_count": null,
   "id": "average-grave",
   "metadata": {},
   "outputs": [],
   "source": []
  },
  {
   "cell_type": "code",
   "execution_count": 249,
   "id": "generous-photography",
   "metadata": {},
   "outputs": [
    {
     "data": {
      "text/plain": [
       "array([0.0731448])"
      ]
     },
     "execution_count": 249,
     "metadata": {},
     "output_type": "execute_result"
    }
   ],
   "source": [
    "max(std_sk_f)"
   ]
  },
  {
   "cell_type": "code",
   "execution_count": 250,
   "id": "effective-virus",
   "metadata": {},
   "outputs": [
    {
     "data": {
      "text/plain": [
       "array([0.24687088])"
      ]
     },
     "execution_count": 250,
     "metadata": {},
     "output_type": "execute_result"
    }
   ],
   "source": [
    "max(std_sk_phys)"
   ]
  },
  {
   "cell_type": "markdown",
   "id": "after-convertible",
   "metadata": {},
   "source": [
    "Relative change in the predictive std (%):"
   ]
  },
  {
   "cell_type": "code",
   "execution_count": 251,
   "id": "rocky-isolation",
   "metadata": {},
   "outputs": [
    {
     "data": {
      "text/plain": [
       "array([237.50981058])"
      ]
     },
     "execution_count": 251,
     "metadata": {},
     "output_type": "execute_result"
    }
   ],
   "source": [
    "100*(max(std_sk_phys) - max(std_sk_f))/max(std_sk_f)"
   ]
  },
  {
   "cell_type": "markdown",
   "id": "happy-sector",
   "metadata": {},
   "source": [
    "Relative change in predictive standard deviation compared to standard GP trained on subset"
   ]
  },
  {
   "cell_type": "code",
   "execution_count": 255,
   "id": "difficult-teacher",
   "metadata": {},
   "outputs": [
    {
     "data": {
      "text/plain": [
       "array([-64.78256804])"
      ]
     },
     "execution_count": 255,
     "metadata": {},
     "output_type": "execute_result"
    }
   ],
   "source": [
    "100*(max(std_sk_phys) - max(std_sk))/max(std_sk)"
   ]
  },
  {
   "cell_type": "code",
   "execution_count": 256,
   "id": "informed-ideal",
   "metadata": {},
   "outputs": [
    {
     "data": {
      "text/plain": [
       "array([2.07116021e+01, 9.01279357e+00, 9.82756443e-04])"
      ]
     },
     "execution_count": 256,
     "metadata": {},
     "output_type": "execute_result"
    }
   ],
   "source": [
    "np.exp(theta_f)  # mu, l, sigma: kernel specified as mu**2 * RBF(l**2) + I sigma**2 "
   ]
  },
  {
   "cell_type": "code",
   "execution_count": 257,
   "id": "expensive-level",
   "metadata": {},
   "outputs": [
    {
     "data": {
      "text/plain": [
       "array([9.37849608e+00, 7.24069727e+00, 2.86906055e-03])"
      ]
     },
     "execution_count": 257,
     "metadata": {},
     "output_type": "execute_result"
    }
   ],
   "source": [
    "np.exp(theta_phys)"
   ]
  },
  {
   "cell_type": "code",
   "execution_count": null,
   "id": "concrete-bacteria",
   "metadata": {},
   "outputs": [],
   "source": []
  },
  {
   "cell_type": "code",
   "execution_count": null,
   "id": "incident-thanksgiving",
   "metadata": {},
   "outputs": [],
   "source": []
  }
 ],
 "metadata": {
  "kernelspec": {
   "display_name": "Python 3",
   "language": "python",
   "name": "python3"
  },
  "language_info": {
   "codemirror_mode": {
    "name": "ipython",
    "version": 3
   },
   "file_extension": ".py",
   "mimetype": "text/x-python",
   "name": "python",
   "nbconvert_exporter": "python",
   "pygments_lexer": "ipython3",
   "version": "3.8.0"
  }
 },
 "nbformat": 4,
 "nbformat_minor": 5
}
