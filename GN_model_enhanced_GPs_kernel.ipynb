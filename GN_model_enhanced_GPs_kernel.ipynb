{
 "cells": [
  {
   "cell_type": "markdown",
   "id": "romance-reform",
   "metadata": {},
   "source": [
    "Use a specialised kernel function to incoporate physical models into the GP. "
   ]
  },
  {
   "cell_type": "code",
   "execution_count": 1,
   "id": "revolutionary-pickup",
   "metadata": {},
   "outputs": [],
   "source": [
    "import numpy as np\n",
    "import matplotlib.pyplot as plt\n",
    "import matplotlib\n",
    "import time\n",
    "from sklearn.gaussian_process import GaussianProcessRegressor\n",
    "from sklearn.gaussian_process.kernels import RBF, ConstantKernel as C, WhiteKernel as W, phys_kernel\n",
    "from gn_model import GN_model\n",
    "font = { 'family' : 'sans-serif',\n",
    "                'weight' : 'normal',\n",
    "                'size'   : 14}\n",
    "matplotlib.rc('font', **font)"
   ]
  },
  {
   "cell_type": "code",
   "execution_count": 2,
   "id": "cognitive-occasion",
   "metadata": {},
   "outputs": [],
   "source": [
    "data_dir = '/Users/joshnevin/Desktop/JavierBERdata/'\n",
    "snr = np.genfromtxt(open(str(data_dir) + \"pchexpsnrsam100.csv\", \"r\"), delimiter=\",\", dtype =float)#[21:60]\n",
    "pch = np.genfromtxt(open(str(data_dir) + \"pchexppchsam100.csv\", \"r\"), delimiter=\",\", dtype =float)#[21:60]\n",
    "# snr = np.genfromtxt(open(str(data_dir) + \"pchexpsnrsam300.csv\", \"r\"), delimiter=\",\", dtype =float)\n",
    "# pch = np.genfromtxt(open(str(data_dir) + \"pchexppchsam300.csv\", \"r\"), delimiter=\",\", dtype =float)"
   ]
  },
  {
   "cell_type": "markdown",
   "id": "another-sampling",
   "metadata": {},
   "source": [
    "Play around with the amount of data"
   ]
  },
  {
   "cell_type": "code",
   "execution_count": 3,
   "id": "separate-experiment",
   "metadata": {},
   "outputs": [],
   "source": [
    "down_sample_factor = 3\n",
    "snr = np.array([snr[i] for i in range(len(snr)) if i % down_sample_factor == 0])\n",
    "pch = np.array([pch[i] for i in range(len(pch)) if i % down_sample_factor == 0])"
   ]
  },
  {
   "cell_type": "code",
   "execution_count": 4,
   "id": "roman-carnival",
   "metadata": {},
   "outputs": [
    {
     "data": {
      "text/plain": [
       "23"
      ]
     },
     "execution_count": 4,
     "metadata": {},
     "output_type": "execute_result"
    }
   ],
   "source": [
    "len(pch)"
   ]
  },
  {
   "cell_type": "code",
   "execution_count": 5,
   "id": "defensive-touch",
   "metadata": {},
   "outputs": [],
   "source": [
    "def convert_to_lin(x):\n",
    "    return 10**(x/10)\n",
    "def convert_to_db(x):\n",
    "    return 10*np.log10(x)\n",
    "def convert_snr_to_nsr(x):\n",
    "    return convert_to_db([1/convert_to_lin(i) for i in snr])"
   ]
  },
  {
   "cell_type": "code",
   "execution_count": 6,
   "id": "breathing-substitute",
   "metadata": {},
   "outputs": [
    {
     "data": {
      "image/png": "[encoded data removed]",
      "text/plain": [
       "<Figure size 432x288 with 1 Axes>"
      ]
     },
     "metadata": {
      "needs_background": "light"
     },
     "output_type": "display_data"
    }
   ],
   "source": [
    "snr_sub = np.array([snr[0], snr[5], snr[11], snr[17], snr[-1]])\n",
    "pch_sub = np.array([pch[0], pch[5], pch[11], pch[17], pch[-1]])\n",
    "plt.plot(pch, snr, 'b.', label='Full Data')\n",
    "plt.plot(pch_sub, snr_sub, 'r+', label='Subset')\n",
    "plt.xlabel(\"Power per channel (dBm)\")\n",
    "plt.ylabel(\"NSR (dB)\")\n",
    "plt.legend()\n",
    "plt.show()"
   ]
  },
  {
   "cell_type": "code",
   "execution_count": 7,
   "id": "differential-greensboro",
   "metadata": {},
   "outputs": [],
   "source": [
    "def shift_pch(pch, emp_pk):\n",
    "    pch_gn = np.linspace(pch[0], pch[-1], 100)\n",
    "    pch_shifted = pch - (emp_pk - pch_gn[np.argmax(phys_model.predict_snr(pch_gn))])\n",
    "    print(\"Power shift: %.3f\" % (emp_pk - pch_gn[np.argmax(phys_model.predict_snr(pch_gn))]))\n",
    "    return pch_shifted\n",
    "def gen_phys_targets(model, pch, num_pts_phys):\n",
    "    pch_gn_shifted = np.linspace(pch[0], pch[-1], num_pts_phys)\n",
    "    snr_phys = (model.predict_snr(pch_gn_shifted)).reshape(-1,1)\n",
    "    return pch_gn_shifted, snr_phys\n",
    "def train_phys_gp(pch, pch_phys, snr, snr_phys, pch_pred):\n",
    "    pch = pch.reshape(-1, 1)  # needed for SK learn input\n",
    "    pch_phys = pch_phys.reshape(-1,1)\n",
    "    pch_pred = pch_pred.reshape(-1,1)\n",
    "    snr = snr.reshape(-1,1)\n",
    "    snr_phys = snr_phys.reshape(-1,1)\n",
    "    kernel_sk = C(1, (1e-5, 1e5)) * RBF(1, (1e-5, 1e5)) +  W(1, (1e-5,1e5))\n",
    "    gpr_phys = GaussianProcessRegressor(kernel=kernel_sk, n_restarts_optimizer = 20, normalize_y=True)\n",
    "    gpr_phys.fit_phys(pch, pch_phys, snr, snr_phys)\n",
    "    mu_sk_phys, std_sk_phys = gpr_phys.predict(pch_pred, return_std=True)\n",
    "    std_sk_phys = np.reshape(std_sk_phys,(np.size(std_sk_phys), 1)) \n",
    "    theta_phys = gpr_phys.kernel_.theta\n",
    "    lml_phys = gpr_phys.log_marginal_likelihood()\n",
    "    return mu_sk_phys, std_sk_phys, theta_phys, lml_phys\n",
    "def train_standard_gp(pch, snr, pch_pred):\n",
    "    pch = pch.reshape(-1, 1)  # needed for SK learn input\n",
    "    snr = snr.reshape(-1,1)\n",
    "    pch_pred = pch_pred.reshape(-1,1)\n",
    "    kernel_sk = C(1, (1e-5, 1e5)) * RBF(1, (1e-5, 1e5)) +  W(1, (1e-5,1e5))\n",
    "    gpr = GaussianProcessRegressor(kernel=kernel_sk, n_restarts_optimizer = 20, normalize_y=True)\n",
    "    gpr.fit(pch, snr)\n",
    "    mu_sk, std_sk = gpr.predict(pch_pred, return_std=True)\n",
    "    std_sk = np.reshape(std_sk,(np.size(std_sk), 1)) \n",
    "    theta = gpr.kernel_.theta\n",
    "    lml = gpr.log_marginal_likelihood()\n",
    "    return mu_sk, std_sk, theta, lml"
   ]
  },
  {
   "cell_type": "markdown",
   "id": "creative-means",
   "metadata": {},
   "source": [
    "**Inputs**: span length [km], operating central wavelength [nm], number of wavelengths, nonlinearity coefficient, dispersion coefficient, loss [db/km], symbol rate [GBd], channel bandwidth [GHz], grid spacing [GHz], EDFA noise figure [dB], number of spans, TRx back to back SNR mean [dB],  TRx back to back SNR standard dev. [dB], random seed"
   ]
  },
  {
   "cell_type": "code",
   "execution_count": 8,
   "id": "rising-baker",
   "metadata": {},
   "outputs": [],
   "source": [
    "unc_fac = 0.01\n",
    "trxbtb = 15\n",
    "nsr_std = convert_to_db(unc_fac*convert_to_lin(-trxbtb))"
   ]
  },
  {
   "cell_type": "code",
   "execution_count": 9,
   "id": "painted-store",
   "metadata": {},
   "outputs": [],
   "source": [
    "phys_model = GN_model(100, 1550, 1, 0.72, 18, 0.18, 35, 40.2, 50, 4.6, 10, -15, nsr_std, 4)"
   ]
  },
  {
   "cell_type": "code",
   "execution_count": 10,
   "id": "pacific-klein",
   "metadata": {},
   "outputs": [
    {
     "name": "stdout",
     "output_type": "stream",
     "text": [
      "Power shift: 1.033\n"
     ]
    }
   ],
   "source": [
    "pch_shifted = shift_pch(pch, 0.7)"
   ]
  },
  {
   "cell_type": "code",
   "execution_count": 11,
   "id": "anonymous-april",
   "metadata": {},
   "outputs": [
    {
     "name": "stdout",
     "output_type": "stream",
     "text": [
      "9.231884329878952e-06\n",
      "[5229.32948902 5229.32948902 5229.32948902 5229.32948902 5229.32948902\n",
      " 5229.32948902 5229.32948902 5229.32948902 5229.32948902 5229.32948902\n",
      " 5229.32948902 5229.32948902 5229.32948902 5229.32948902 5229.32948902\n",
      " 5229.32948902 5229.32948902 5229.32948902 5229.32948902 5229.32948902\n",
      " 5229.32948902 5229.32948902 5229.32948902]\n"
     ]
    }
   ],
   "source": [
    "b = phys_model.calc_eta(pch)\n",
    "a = phys_model.calc_Pase()\n",
    "print(a)\n",
    "print(b)"
   ]
  },
  {
   "cell_type": "markdown",
   "id": "christian-arrangement",
   "metadata": {},
   "source": [
    "Check the values of a and b by generating the predicted SNR at 0 dBm with TRx b2b = 15 dB:"
   ]
  },
  {
   "cell_type": "code",
   "execution_count": 12,
   "id": "careful-thriller",
   "metadata": {},
   "outputs": [
    {
     "data": {
      "text/plain": [
       "array([13.36449922, 13.36449922, 13.36449922, 13.36449922, 13.36449922,\n",
       "       13.36449922, 13.36449922, 13.36449922, 13.36449922, 13.36449922,\n",
       "       13.36449922, 13.36449922, 13.36449922, 13.36449922, 13.36449922,\n",
       "       13.36449922, 13.36449922, 13.36449922, 13.36449922, 13.36449922,\n",
       "       13.36449922, 13.36449922, 13.36449922])"
      ]
     },
     "execution_count": 12,
     "metadata": {},
     "output_type": "execute_result"
    }
   ],
   "source": [
    "convert_to_db( (1/(1e-3/(a+b*(1e-3)**3)) + 1/convert_to_lin(15) )**(-1) )"
   ]
  },
  {
   "cell_type": "markdown",
   "id": "seeing-colonial",
   "metadata": {},
   "source": [
    "According to Javier, the measurements of Pch may not be reliable and we may need to shift them in order to obtain agreement with the GN model. We do this by calculating the input power per channel that corresponds to peak SNR in the GN model and shifting the peak of measured data to line up with this prediction."
   ]
  },
  {
   "cell_type": "code",
   "execution_count": 13,
   "id": "sustainable-convenience",
   "metadata": {},
   "outputs": [],
   "source": [
    "kernel_phys = C(1, (1e-5, 1e5)) * phys_kernel(1, (1e-5, 1e5)) +  W(1, (1e-5,1e5))"
   ]
  },
  {
   "cell_type": "code",
   "execution_count": 14,
   "id": "forbidden-central",
   "metadata": {},
   "outputs": [],
   "source": [
    "nsr = convert_snr_to_nsr(snr)"
   ]
  },
  {
   "cell_type": "code",
   "execution_count": 15,
   "id": "exterior-alexander",
   "metadata": {},
   "outputs": [],
   "source": [
    "nsr_lin = convert_to_lin(nsr)\n",
    "pch_lin = convert_to_lin(pch)\n",
    "pch_shifted_lin = convert_to_lin(pch_shifted)"
   ]
  },
  {
   "cell_type": "code",
   "execution_count": 16,
   "id": "union-decade",
   "metadata": {},
   "outputs": [],
   "source": [
    "def train_phys_kernel_gp(pch, nsr, pch_pred):\n",
    "    pch = pch.reshape(-1, 1)  # needed for SK learn input\n",
    "    nsr = nsr.reshape(-1,1)\n",
    "    pch_pred = pch_pred.reshape(-1,1)\n",
    "    kernel_phys = C(1, (1e-5, 1e5)) * phys_kernel(1, (1e-5, 1e5)) +  W(1, (1e-5,1e5))\n",
    "    gpr = GaussianProcessRegressor(kernel=kernel_phys, n_restarts_optimizer = 20, normalize_y=True)\n",
    "    gpr.fit(pch, nsr)\n",
    "    mu_sk, std_sk = gpr.predict(pch_pred, return_std=True)\n",
    "    std_sk = np.reshape(std_sk,(np.size(std_sk), 1)) \n",
    "    theta = gpr.kernel_.theta\n",
    "    lml = gpr.log_marginal_likelihood()\n",
    "    return mu_sk, std_sk, theta, lml"
   ]
  },
  {
   "cell_type": "code",
   "execution_count": 17,
   "id": "competent-identifier",
   "metadata": {},
   "outputs": [
    {
     "name": "stderr",
     "output_type": "stream",
     "text": [
      "/Users/joshnevin/sklearnforked/scikit-learn/sklearn/gaussian_process/kernels.py:1682: RuntimeWarning: divide by zero encountered in true_divide\n",
      "  return a/X + b*np.multiply(X, X)\n"
     ]
    }
   ],
   "source": [
    "mu_sk_f, std_sk_f, theta_f, lml_f = train_phys_kernel_gp(pch_shifted_lin, nsr, pch)\n",
    "mu_sk_p2_f = mu_sk_f + 2*std_sk_f \n",
    "mu_sk_n2_f = mu_sk_f - 2*std_sk_f "
   ]
  },
  {
   "cell_type": "markdown",
   "id": "meaningful-usage",
   "metadata": {},
   "source": [
    "Confused by this warning as all input power values are above 0..."
   ]
  },
  {
   "cell_type": "code",
   "execution_count": 18,
   "id": "fallen-dialogue",
   "metadata": {},
   "outputs": [
    {
     "data": {
      "text/plain": [
       "array([ True,  True,  True,  True,  True,  True,  True,  True,  True,\n",
       "        True,  True,  True,  True,  True,  True,  True,  True,  True,\n",
       "        True,  True,  True,  True,  True])"
      ]
     },
     "execution_count": 18,
     "metadata": {},
     "output_type": "execute_result"
    }
   ],
   "source": [
    "pch_lin > 0"
   ]
  },
  {
   "cell_type": "code",
   "execution_count": 19,
   "id": "downtown-chapel",
   "metadata": {},
   "outputs": [
    {
     "data": {
      "image/png": "[encoded data removed]",
      "text/plain": [
       "<Figure size 432x288 with 1 Axes>"
      ]
     },
     "metadata": {},
     "output_type": "display_data"
    }
   ],
   "source": [
    "f, ax = plt.subplots()\n",
    "ax.plot(pch_shifted, nsr, 'r^')\n",
    "ax.plot(pch_shifted, mu_sk_f, 'b-')\n",
    "plt.xlabel(\"Input power (dBm)\")\n",
    "plt.ylabel(\"NSR (dB)\")\n",
    "f.patch.set_facecolor('w')\n",
    "ax.set_aspect(1.0/ax.get_data_ratio(), adjustable='box')\n",
    "#plt.savefig('figures/custom_kernel_result_element.pdf', dpi=200,bbox_inches='tight')\n",
    "plt.show()"
   ]
  }
 ],
 "metadata": {
  "kernelspec": {
   "display_name": "Python 3",
   "language": "python",
   "name": "python3"
  },
  "language_info": {
   "codemirror_mode": {
    "name": "ipython",
    "version": 3
   },
   "file_extension": ".py",
   "mimetype": "text/x-python",
   "name": "python",
   "nbconvert_exporter": "python",
   "pygments_lexer": "ipython3",
   "version": "3.8.0"
  }
 },
 "nbformat": 4,
 "nbformat_minor": 5
}
