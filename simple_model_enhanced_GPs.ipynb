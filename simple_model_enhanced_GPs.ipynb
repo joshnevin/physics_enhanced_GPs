{
 "cells": [
  {
   "cell_type": "markdown",
   "id": "european-pierre",
   "metadata": {},
   "source": [
    "Use the simple SNR model from \"Design considerations for low-margin elastic optical networks in the nonlinear regime\" Savory et al. with an added white Gaussian noise term, designed to alleviate the problem of significantly reducing the predictive variance of the model:\n",
    "$SNR = \\frac{P}{a + bP^3} + cN(0, \\sigma)$\n"
   ]
  },
  {
   "cell_type": "code",
   "execution_count": 7,
   "id": "dirty-buying",
   "metadata": {},
   "outputs": [],
   "source": [
    "import numpy as np\n",
    "import matplotlib.pyplot as plt\n",
    "import matplotlib\n",
    "import time\n",
    "from sklearn.gaussian_process import GaussianProcessRegressor\n",
    "from sklearn.gaussian_process.kernels import RBF, ConstantKernel as C, WhiteKernel as W\n",
    "from scipy.optimize import minimize\n",
    "from numpy.random import normal\n",
    "font = { 'family' : 'sans-serif',\n",
    "                'weight' : 'normal',\n",
    "                'size'   : 14}\n",
    "matplotlib.rc('font', **font)"
   ]
  },
  {
   "cell_type": "code",
   "execution_count": 29,
   "id": "failing-horizon",
   "metadata": {},
   "outputs": [],
   "source": [
    "data_dir = '/Users/joshnevin/Desktop/JavierBERdata/'\n",
    "snr = np.genfromtxt(open(str(data_dir) + \"pchexpsnrsam100.csv\", \"r\"), delimiter=\",\", dtype =float)[21:60]\n",
    "pch = np.genfromtxt(open(str(data_dir) + \"pchexppchsam100.csv\", \"r\"), delimiter=\",\", dtype =float)[21:60]\n",
    "# snr = np.genfromtxt(open(str(data_dir) + \"pchexpsnrsam300.csv\", \"r\"), delimiter=\",\", dtype =float)\n",
    "# pch = np.genfromtxt(open(str(data_dir) + \"pchexppchsam300.csv\", \"r\"), delimiter=\",\", dtype =float)\n",
    "snr_lin = 10**(snr/10)\n",
    "pch_lin = 1e-3*10**(pch/10)"
   ]
  },
  {
   "cell_type": "markdown",
   "id": "indirect-vulnerability",
   "metadata": {},
   "source": [
    "Select a fraction of the data to use for fitting and another fraction for testing."
   ]
  },
  {
   "cell_type": "code",
   "execution_count": 3,
   "id": "banner-space",
   "metadata": {},
   "outputs": [
    {
     "data": {
      "image/png": "[encoded data removed]",
      "text/plain": [
       "<Figure size 432x288 with 1 Axes>"
      ]
     },
     "metadata": {
      "needs_background": "light"
     },
     "output_type": "display_data"
    }
   ],
   "source": [
    "snr_fit = snr[:-9].reshape(-1,1)\n",
    "pch_fit = pch[:-9].reshape(-1,1)\n",
    "plt.plot(pch, snr, 'b.', label='Full Data')\n",
    "plt.plot(pch_fit, snr_fit, 'r+', label='Fitting Data')\n",
    "plt.xlabel(\"Power per channel (dBm)\")\n",
    "plt.ylabel(\"SNR (dB)\")\n",
    "plt.legend()\n",
    "plt.show()"
   ]
  },
  {
   "cell_type": "code",
   "execution_count": 195,
   "id": "functioning-recognition",
   "metadata": {},
   "outputs": [],
   "source": [
    "class simple_model:\n",
    "    def __init__(self, a=1.0, b=1.0, c=1.0, sigma=1.0):\n",
    "        self.a = a\n",
    "        self.b = b\n",
    "        self.c = c\n",
    "        self.sigma = sigma\n",
    "    \n",
    "    def convert_to_lin(self, x):\n",
    "        return 10**(x/10)\n",
    "    \n",
    "    def convert_to_db(self, x):\n",
    "        return 10*np.log10(x)\n",
    "    \n",
    "    def obj_func(self, params, p_in, y):\n",
    "        num_pch = len(p_in)\n",
    "        #np.random.seed(101)\n",
    "        #[a, b, c, sigma] = params\n",
    "        [a, b] = params\n",
    "        return sum((y -  ( p_in/(a + b*p_in**3)))**2)\n",
    "        #return sum((y -  ( p_in/(a + b*p_in**3) + c*normal(0,sigma,39) ))**2)\n",
    "    \n",
    "    def fit(self, p_in, y):  \n",
    "        p_in = 1e-3*self.convert_to_lin(p_in) # W\n",
    "        y = self.convert_to_lin(snr)\n",
    "        #params = np.ndarray(shape=(4,), dtype=float, buffer=np.array([self.a, self.b, self.c, self.sigma]))\n",
    "        params = np.ndarray(shape=(2,), dtype=float, buffer=np.array([self.a, self.b]))\n",
    "        opt_res = minimize(self.obj_func,params,args=(p_in, y),method = 'L-BFGS-B',options={'maxiter':1e4})\n",
    "        return opt_res\n",
    "    \n",
    "    def snr_predict(self, p_in, a, b):\n",
    "        return p_in/(a + b*p_in**3) \n",
    "        "
   ]
  },
  {
   "cell_type": "code",
   "execution_count": 196,
   "id": "aboriginal-carol",
   "metadata": {},
   "outputs": [],
   "source": [
    "sim_model = simple_model()"
   ]
  },
  {
   "cell_type": "code",
   "execution_count": 197,
   "id": "dedicated-jesus",
   "metadata": {},
   "outputs": [
    {
     "data": {
      "text/plain": [
       "39"
      ]
     },
     "execution_count": 197,
     "metadata": {},
     "output_type": "execute_result"
    }
   ],
   "source": [
    "len(pch)"
   ]
  },
  {
   "cell_type": "code",
   "execution_count": 198,
   "id": "limited-hometown",
   "metadata": {},
   "outputs": [],
   "source": [
    "opt_vals = sim_model.fit(pch, snr)"
   ]
  },
  {
   "cell_type": "code",
   "execution_count": 199,
   "id": "opposite-customs",
   "metadata": {},
   "outputs": [
    {
     "data": {
      "text/plain": [
       "array([0.07407408, 1.        ])"
      ]
     },
     "execution_count": 199,
     "metadata": {},
     "output_type": "execute_result"
    }
   ],
   "source": [
    "opt_vals.x"
   ]
  },
  {
   "cell_type": "markdown",
   "id": "hollow-redhead",
   "metadata": {},
   "source": [
    "Strange bug: optimizer will only work when using normal with a dimension of one (i.e. as an added float) and not when an array of random values is used..."
   ]
  },
  {
   "cell_type": "code",
   "execution_count": 201,
   "id": "mysterious-somerset",
   "metadata": {},
   "outputs": [],
   "source": [
    "snr_sim = sim_model.snr_predict(pch, opt_vals.x[0], opt_vals.x[1])"
   ]
  },
  {
   "cell_type": "code",
   "execution_count": 202,
   "id": "false-middle",
   "metadata": {},
   "outputs": [
    {
     "data": {
      "image/png": "[encoded data removed]",
      "text/plain": [
       "<Figure size 432x288 with 1 Axes>"
      ]
     },
     "metadata": {
      "needs_background": "light"
     },
     "output_type": "display_data"
    }
   ],
   "source": [
    "plt.plot(pch, snr, '+')\n",
    "plt.plot(pch, snr_sim, 'b-')\n",
    "plt.show()"
   ]
  },
  {
   "cell_type": "code",
   "execution_count": 170,
   "id": "drawn-diary",
   "metadata": {},
   "outputs": [],
   "source": [
    "def obj_func(params, p_in, y):\n",
    "        [a, b, c, sigma] = params\n",
    "        #return sum((y - (a + b*p_in**3))**2)**0.5\n",
    "        #return sum((y - (p_in/(a + b*p_in**3) + c*normal(0, sigma, len(p_in))))**2)\n",
    "        return y -  ( p_in/(a + b*p_in**3) + c*normal(0,sigma,39) ) "
   ]
  },
  {
   "cell_type": "code",
   "execution_count": 171,
   "id": "antique-sapphire",
   "metadata": {},
   "outputs": [
    {
     "data": {
      "text/plain": [
       "array([19.50208281, 19.44580454, 19.30750758, 19.8861519 , 20.13445198,\n",
       "       19.95590795, 20.5277737 , 20.81802549, 20.40592903, 21.07742865,\n",
       "       21.15551095, 21.07357569, 21.48038491, 21.50167876, 21.36491704,\n",
       "       21.57195914, 21.64776826, 21.58099124, 21.50396536, 21.7002796 ,\n",
       "       21.56503388, 21.23696238, 21.51946559, 21.38769322, 21.10527053,\n",
       "       20.96551336, 21.16135517, 20.3699984 , 20.21877791, 20.29075498,\n",
       "       19.3451706 , 19.28460912, 19.27707318, 18.25828824, 18.29446269,\n",
       "       18.13794374, 16.77158344, 16.76712867, 16.80645789])"
      ]
     },
     "execution_count": 171,
     "metadata": {},
     "output_type": "execute_result"
    }
   ],
   "source": [
    "params = np.ndarray(shape=(4,), dtype=float, buffer=np.array([5,6, 0.1 ,0.1]))\n",
    "obj_func(params, pch_lin, snr_lin)"
   ]
  },
  {
   "cell_type": "code",
   "execution_count": 121,
   "id": "commercial-relationship",
   "metadata": {},
   "outputs": [
    {
     "data": {
      "text/plain": [
       "array([1., 1., 1., 1.])"
      ]
     },
     "execution_count": 121,
     "metadata": {},
     "output_type": "execute_result"
    }
   ],
   "source": [
    "np.ndarray(shape=(4,), dtype=float, buffer=np.array([1.0, 1.0, 1.0, 1.0]))"
   ]
  },
  {
   "cell_type": "code",
   "execution_count": null,
   "id": "historic-lancaster",
   "metadata": {},
   "outputs": [],
   "source": []
  }
 ],
 "metadata": {
  "kernelspec": {
   "display_name": "Python 3",
   "language": "python",
   "name": "python3"
  },
  "language_info": {
   "codemirror_mode": {
    "name": "ipython",
    "version": 3
   },
   "file_extension": ".py",
   "mimetype": "text/x-python",
   "name": "python",
   "nbconvert_exporter": "python",
   "pygments_lexer": "ipython3",
   "version": "3.8.0"
  }
 },
 "nbformat": 4,
 "nbformat_minor": 5
}
