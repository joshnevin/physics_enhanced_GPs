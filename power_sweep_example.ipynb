{
 "cells": [
  {
   "cell_type": "markdown",
   "id": "amateur-collective",
   "metadata": {},
   "source": [
    "Exploration of using Javier's dataset consisting of a power sweep for a 10-span system as an example of how to augment GPs with physical model priors. \n",
    "PLAN: \n",
    "* implement physical model-enhanced (homoscedastic) GP model for toy SNR(Pch) dataset \n",
    "* compare results with library, such as GPy\n",
    "* compare results with own GP implementation with no physical model \n",
    "STEPS: \n",
    "1. Implement homoscedastic GP regression from stratch (object-orientated)\n",
    "2. Implement a modified version in which physical models are used in fitting process and compare"
   ]
  },
  {
   "cell_type": "code",
   "execution_count": 1,
   "id": "painted-victory",
   "metadata": {},
   "outputs": [],
   "source": [
    "import numpy as np\n",
    "import matplotlib.pyplot as plt\n",
    "import matplotlib\n",
    "import GPy\n",
    "import time"
   ]
  },
  {
   "cell_type": "code",
   "execution_count": 2,
   "id": "handy-sending",
   "metadata": {},
   "outputs": [],
   "source": [
    "font = { 'family' : 'sans-serif',\n",
    "                'weight' : 'normal',\n",
    "                'size'   : 14}\n",
    "matplotlib.rc('font', **font)"
   ]
  },
  {
   "cell_type": "code",
   "execution_count": 3,
   "id": "perceived-delay",
   "metadata": {},
   "outputs": [],
   "source": [
    "data_dir = '/Users/joshnevin/Desktop/JavierBERdata/'\n",
    "snr = np.genfromtxt(open(str(data_dir) + \"pchexpsnrsam100.csv\", \"r\"), delimiter=\",\", dtype =float)[21:60]\n",
    "pch = np.genfromtxt(open(str(data_dir) + \"pchexppchsam100.csv\", \"r\"), delimiter=\",\", dtype =float)[21:60]"
   ]
  },
  {
   "cell_type": "code",
   "execution_count": 4,
   "id": "falling-astrology",
   "metadata": {},
   "outputs": [
    {
     "data": {
      "image/png": "[encoded data removed]",
      "text/plain": [
       "<Figure size 432x288 with 1 Axes>"
      ]
     },
     "metadata": {
      "needs_background": "light"
     },
     "output_type": "display_data"
    }
   ],
   "source": [
    "plt.plot(pch, snr, 'b+')\n",
    "plt.xlabel(\"Pch (dBm)\")\n",
    "plt.ylabel(\"SNR (dB)\")\n",
    "plt.show()"
   ]
  },
  {
   "cell_type": "code",
   "execution_count": 61,
   "id": "atmospheric-boring",
   "metadata": {},
   "outputs": [
    {
     "name": "stdout",
     "output_type": "stream",
     "text": [
      "-1.0\n"
     ]
    }
   ],
   "source": [
    "print(min(pch))"
   ]
  },
  {
   "cell_type": "markdown",
   "id": "listed-devil",
   "metadata": {},
   "source": [
    "Data consists of time series measurements of SNR as a function of Pch - values are recorded in 0.5 dBm increments, with multiple recorded values of SNR at each Pch. "
   ]
  },
  {
   "cell_type": "markdown",
   "id": "protecting-spencer",
   "metadata": {},
   "source": [
    "We can define a GP model using the GPy library, a powerful open source Gaussian Process library."
   ]
  },
  {
   "cell_type": "code",
   "execution_count": 70,
   "id": "convenient-reward",
   "metadata": {},
   "outputs": [],
   "source": [
    "snr = snr.reshape(len(snr),1)\n",
    "pch = pch.reshape(len(pch),1)"
   ]
  },
  {
   "cell_type": "code",
   "execution_count": 72,
   "id": "charged-windsor",
   "metadata": {},
   "outputs": [
    {
     "name": "stdout",
     "output_type": "stream",
     "text": [
      "GPy took 0.06316375732421875s\n",
      "GPy LML = 75.07804853891383\n"
     ]
    }
   ],
   "source": [
    "kern_gpy = GPy.kern.RBF(1) + GPy.kern.White(1) \n",
    "m1 = GPy.models.GPRegression(pch,snr,kern_gpy)\n",
    "start = time.time()\n",
    "m1.optimize()\n",
    "end = time.time()\n",
    "print(\"GPy took \" + str(end-start) + \"s\")\n",
    "lml_sgp = m1.log_likelihood()\n",
    "print(\"GPy LML = \" + str(lml_sgp))"
   ]
  },
  {
   "cell_type": "code",
   "execution_count": 73,
   "id": "confidential-thirty",
   "metadata": {},
   "outputs": [],
   "source": [
    "mu_gpy, var_gpy = m1.predict(pch)  # extract predictive mean and variance from GPy model \n",
    "std_gpy = var_gpy**0.5\n",
    "mu_gpy_p = mu_gpy + std_gpy*2\n",
    "mu_gpy_n = mu_gpy - std_gpy*2"
   ]
  },
  {
   "cell_type": "code",
   "execution_count": 74,
   "id": "mounted-details",
   "metadata": {},
   "outputs": [
    {
     "data": {
      "image/png": "[encoded data removed]",
      "text/plain": [
       "<Figure size 432x288 with 1 Axes>"
      ]
     },
     "metadata": {
      "needs_background": "light"
     },
     "output_type": "display_data"
    }
   ],
   "source": [
    "f, ax = plt.subplots()\n",
    "ax.plot(pch, mu_gpy, color = 'b')\n",
    "ax.plot(pch, snr,'k+')\n",
    "ax.fill(np.concatenate([pch, pch[::-1]]),\n",
    "            np.concatenate([mu_gpy_p,\n",
    "                            (mu_gpy_n)[::-1]]),\n",
    "            alpha=0.3, fc='r', ec='None', label='2 $\\sigma$')\n",
    "plt.xlim(pch[0], pch[-1])\n",
    "plt.xlabel(\"Pch (dBm)\")\n",
    "plt.ylabel(\"SNR (dB)\")\n",
    "plt.legend()\n",
    "ax.set_aspect(1.0/ax.get_data_ratio(), adjustable='box')\n",
    "#plt.savefig('.pdf', dpi=200,bbox_inches='tight')\n",
    "plt.show()"
   ]
  },
  {
   "cell_type": "markdown",
   "id": "alert-conclusion",
   "metadata": {},
   "source": [
    "The JGP class just needs to have methods for optimising the hyperparameters and performing prediction using R + W algorithm 2.1:\n",
    "* method for computing the log marginal likelihood and its derivative\n",
    "* method that implements algorithm 2.1 to obtain the predictive mean and variance "
   ]
  },
  {
   "cell_type": "markdown",
   "id": "proper-pursuit",
   "metadata": {},
   "source": [
    "Can take the methods we need from the SKlearn GaussianProcessRegressor class: https://github.com/scikit-learn/scikit-learn/blob/main/sklearn/gaussian_process/_gpr.py:\n",
    "* log_marginal_likelihood() (line 423) - note how they exposed this method \n",
    "* _constrained_optimization() (line 505) \n",
    "* predict() (line 282, useful bit on line 343)"
   ]
  },
  {
   "cell_type": "code",
   "execution_count": 77,
   "id": "cathedral-asthma",
   "metadata": {},
   "outputs": [],
   "source": [
    "class j_gp:\n",
    "    def __init__(self, x, y, kernel):\n",
    "        self.x = x \n",
    "        self.y = y\n",
    "        self.kernel = kernel"
   ]
  },
  {
   "cell_type": "markdown",
   "id": "serial-niagara",
   "metadata": {},
   "source": [
    "**Alternative approach**: have forked the scikit-learn library and cloned it to my local machine, then set it up so that I can edit the source code and run it in this working env. Pip list shows this library as being installed in this way: 1.0.dev0 /Users/joshnevin/sklearnforked/scikit-learn.\n",
    "**Note**: in order to see the changes to the code, I need to restart the kernel and import the library again. Thus, I have included a quick setup cell below. "
   ]
  },
  {
   "cell_type": "code",
   "execution_count": 1,
   "id": "parliamentary-organization",
   "metadata": {},
   "outputs": [],
   "source": [
    "import numpy as np\n",
    "import matplotlib.pyplot as plt\n",
    "import matplotlib\n",
    "import time\n",
    "from sklearn.gaussian_process import GaussianProcessRegressor\n",
    "from sklearn.gaussian_process.kernels import RBF, ConstantKernel as C, WhiteKernel as W\n",
    "font = { 'family' : 'sans-serif',\n",
    "                'weight' : 'normal',\n",
    "                'size'   : 14}\n",
    "matplotlib.rc('font', **font)\n",
    "data_dir = '/Users/joshnevin/Desktop/JavierBERdata/'\n",
    "snr = np.genfromtxt(open(str(data_dir) + \"pchexpsnrsam100.csv\", \"r\"), delimiter=\",\", dtype =float)[21:60]\n",
    "pch = np.genfromtxt(open(str(data_dir) + \"pchexppchsam100.csv\", \"r\"), delimiter=\",\", dtype =float)[21:60]\n",
    "snr_phys = np.genfromtxt(open(\"snr_gn.csv\", \"r\"), delimiter=\",\", dtype =float).reshape(-1,1)"
   ]
  },
  {
   "cell_type": "code",
   "execution_count": 2,
   "id": "limited-experience",
   "metadata": {},
   "outputs": [
    {
     "name": "stderr",
     "output_type": "stream",
     "text": [
      "/Users/joshnevin/sklearnforked/scikit-learn/sklearn/gaussian_process/_gpr.py:737: ConvergenceWarning: lbfgs failed to converge (status=2):\n",
      "ABNORMAL_TERMINATION_IN_LNSRCH.\n",
      "\n",
      "Increase the number of iterations (max_iter) or scale the data as shown in:\n",
      "    https://scikit-learn.org/stable/modules/preprocessing.html\n",
      "  _check_optimize_result(\"lbfgs\", opt_res)\n"
     ]
    }
   ],
   "source": [
    "pch = pch.reshape(-1, 1)  # needed for SK learn input\n",
    "snr = snr.reshape(-1, 1)\n",
    "kernel_sk = C(1, (1e-5, 1e5)) * RBF(1, (1e-5, 1e5)) +  W(1, (1e-5,1e5))\n",
    "gpr = GaussianProcessRegressor(kernel=kernel_sk, n_restarts_optimizer = 20, normalize_y=True)\n",
    "gpr.fit_phys(pch, snr, snr_phys)\n",
    "#print(\"Optimised kernel: %s\" % gpr.kernel_)\n",
    "mu_sk, std_sk = gpr.predict(pch, return_std=True )\n",
    "std_sk = np.reshape(std_sk,(np.size(std_sk), 1)) \n",
    "theta = gpr.kernel_.theta\n",
    "lml = gpr.log_marginal_likelihood()\n",
    "mu_sk_p = mu_sk + 2*std_sk \n",
    "mu_sk_n = mu_sk - 2*std_sk "
   ]
  },
  {
   "cell_type": "code",
   "execution_count": 3,
   "id": "subsequent-calculator",
   "metadata": {},
   "outputs": [
    {
     "data": {
      "image/png": "[encoded data removed]",
      "text/plain": [
       "<Figure size 432x288 with 1 Axes>"
      ]
     },
     "metadata": {
      "needs_background": "light"
     },
     "output_type": "display_data"
    }
   ],
   "source": [
    "f, ax = plt.subplots()\n",
    "ax.plot(pch, mu_sk, 'b-')\n",
    "ax.plot(pch, snr,'k+')\n",
    "ax.fill(np.concatenate([pch, pch[::-1]]),\n",
    "            np.concatenate([mu_sk_p,\n",
    "                            (mu_sk_n)[::-1]]),\n",
    "            alpha=0.3, fc='r', ec='None', label='2 $\\sigma$')\n",
    "plt.xlim(pch[0], pch[-1])\n",
    "plt.xlabel(\"Pch (dBm)\")\n",
    "plt.ylabel(\"SNR (dB)\")\n",
    "plt.legend()\n",
    "ax.set_aspect(1.0/ax.get_data_ratio(), adjustable='box')\n",
    "#plt.savefig('.pdf', dpi=200,bbox_inches='tight')\n",
    "plt.show()"
   ]
  },
  {
   "cell_type": "markdown",
   "id": "ranging-spray",
   "metadata": {},
   "source": [
    "**Physical model** start with GN model: 10 100km spans, Pch is the same for each span. "
   ]
  },
  {
   "cell_type": "code",
   "execution_count": 3,
   "id": "sensitive-korea",
   "metadata": {},
   "outputs": [],
   "source": [
    "class GN_model:\n",
    "    def __init__(self, span_len, lam_op, num_lam, nl_cof, disp_cof,  alpha, r_sym, bchrs, grid_sp, n_fig, num_spans):\n",
    "        self.span_len = span_len\n",
    "        self.lam_op = lam_op\n",
    "        self.num_lam = num_lam\n",
    "        self.nl_cof = nl_cof\n",
    "        self.disp_cof = disp_cof\n",
    "        self.alpha = alpha\n",
    "        self.r_sym = r_sym\n",
    "        self.bchrs = bchrs\n",
    "        self.grid_sp = grid_sp\n",
    "        self.n_fig = n_fig\n",
    "        self.num_spans = num_spans\n",
    "        self.freq = 299792458/(self.lam_op*1e-9)\n",
    "        self.al_lin = np.log((10**(self.alpha/10)))/2 # fibre loss [1/km] \n",
    "        self.beta2 = (self.disp_cof*(self.lam_op**2))/(2*np.pi*299792.458) # dispersion coefficient at given wavelength [ps^2/km]\n",
    "        self.l_eff = (1 - np.exp(-2*self.al_lin*self.span_len ))/(2*self.al_lin) # effective length [km]\n",
    "        self.l_eff_as = 1/(2*self.al_lin) # the asymptotic effective length [km]  \n",
    "        self.h = 6.63*1e-34 # Planck's constant [Js]\n",
    "    \n",
    "    def predict_snr(self, p_ch):\n",
    "        Gwdm = (1e-3*10**(p_ch/10))/(self.bchrs*1e9)\n",
    "        Gnli = 1e24*(8/27)*(self.nl_cof**2)*(Gwdm**3)*(self.l_eff**2)*((np.arcsinh((np.pi**2)*0.5*self.beta2*self.l_eff_as*(self.bchrs**2)*(self.num_lam**((2*self.bchrs)/self.grid_sp))  ) )/(np.pi*self.beta2*self.l_eff_as))*self.num_spans                                                                             \n",
    "        Pase = self.n_fig*self.h*self.freq*(self.convert_to_lin(self.alpha*self.span_len) - 1)*self.bchrs*1e9*self.num_spans       \n",
    "        Pch = 1e-3*10**(p_ch/10) \n",
    "        snr = (Pch/(Pase + Gnli*self.bchrs*1e9))\n",
    "        #snr = ( snr**(-1) + (convert_to_lin(TRxb2b))**(-1) )**(-1)\n",
    "        return self.convert_to_db(snr)\n",
    "    \n",
    "    def find_pch_opt(self):  # return optimal Pch in dBm\n",
    "        PchdBm = np.linspace(-6,6,500)  # 500 datapoints for higher resolution of Pch\n",
    "        numpch = len(PchdBm)\n",
    "        Pchsw = 1e-3*10**(PchdBm/10)  # convert from dBm to linear units [W]\n",
    "        Gwdmsw = Pchsw/(self.bchrs*1e9)\n",
    "        Gnlisw = 1e24*(8/27)*(self.nl_cof**2)*(Gwdmsw**3)*(self.l_eff**2)*((np.arcsinh((np.pi**2)*0.5*self.beta2*self.l_eff_as*(self.bchrs**2)*(self.num_lam**((2*self.bchrs)/self.grid_sp))  ) )/(np.pi*self.beta2*self.l_eff_as))\n",
    "        G = self.alpha*self.span_len\n",
    "        NFl = 10**(self.n_fig/10) # convert to linear noise figure\n",
    "        Gl = 10**(G/10) # convert to linear gain\n",
    "        Pasesw = NFl*self.h*self.freq*(Gl - 1)*self.bchrs*1e9 # [W] the ASE noise power in one Nyquist channel across all spans\n",
    "        snrsw = (Pchsw)/(Pasesw*np.ones(numpch) + Gnlisw*self.bchrs*1e9)\n",
    "        return PchdBm[np.argmax(snrsw)] \n",
    "    \n",
    "    def convert_to_lin(self, x):\n",
    "        return 10**(x/10)\n",
    "    \n",
    "    def convert_to_db(self, x):\n",
    "        return 10*np.log10(x)\n",
    "\n",
    "         "
   ]
  },
  {
   "cell_type": "markdown",
   "id": "caring-emphasis",
   "metadata": {},
   "source": [
    "**Inputs**: span length [km], operating central wavelength [nm], number of wavelengths, nonlinearity coefficient, dispersion coefficient, loss [db/km], symbol rate [GBd], channel bandwidth [GHz], grid spacing [GHz], EDFA noise figure [dB], number of spans "
   ]
  },
  {
   "cell_type": "code",
   "execution_count": 4,
   "id": "fallen-sunday",
   "metadata": {},
   "outputs": [],
   "source": [
    "phys_model = GN_model(100, 1550, 1, 1.27, 16.7, 0.2, 32, 41.6, 50, 4.5, 10)"
   ]
  },
  {
   "cell_type": "code",
   "execution_count": 5,
   "id": "noble-protocol",
   "metadata": {},
   "outputs": [
    {
     "data": {
      "text/plain": [
       "-0.9018036072144291"
      ]
     },
     "execution_count": 5,
     "metadata": {},
     "output_type": "execute_result"
    }
   ],
   "source": [
    "phys_model.find_pch_opt() "
   ]
  },
  {
   "cell_type": "code",
   "execution_count": 8,
   "id": "primary-liberia",
   "metadata": {},
   "outputs": [],
   "source": [
    "snr_gn = phys_model.predict_snr(pch)\n",
    "np.savetxt('snr_gn.csv', snr_gn, delimiter=',') "
   ]
  },
  {
   "cell_type": "code",
   "execution_count": 7,
   "id": "given-armstrong",
   "metadata": {},
   "outputs": [
    {
     "data": {
      "image/png": "[encoded data removed]",
      "text/plain": [
       "<Figure size 432x288 with 1 Axes>"
      ]
     },
     "metadata": {
      "needs_background": "light"
     },
     "output_type": "display_data"
    }
   ],
   "source": [
    "plt.plot(pch, snr, 'b+')\n",
    "plt.plot(pch, snr_gn)\n",
    "plt.xlabel(\"Pch (dBm)\")\n",
    "plt.ylabel(\"SNR (dB)\")\n",
    "plt.show()"
   ]
  },
  {
   "cell_type": "markdown",
   "id": "bulgarian-anatomy",
   "metadata": {},
   "source": [
    "SKlearn source code edits required: \n",
    "1. change GaussianProcessRegressor class constructor to also take physical model data as an input"
   ]
  },
  {
   "cell_type": "code",
   "execution_count": null,
   "id": "surprising-bicycle",
   "metadata": {},
   "outputs": [],
   "source": []
  }
 ],
 "metadata": {
  "kernelspec": {
   "display_name": "Python 3",
   "language": "python",
   "name": "python3"
  },
  "language_info": {
   "codemirror_mode": {
    "name": "ipython",
    "version": 3
   },
   "file_extension": ".py",
   "mimetype": "text/x-python",
   "name": "python",
   "nbconvert_exporter": "python",
   "pygments_lexer": "ipython3",
   "version": "3.8.0"
  }
 },
 "nbformat": 4,
 "nbformat_minor": 5
}
