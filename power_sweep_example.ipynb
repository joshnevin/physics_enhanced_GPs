{
 "cells": [
  {
   "cell_type": "markdown",
   "id": "proof-tanzania",
   "metadata": {},
   "source": [
    "Exploration of using Javier's dataset consisting of a power sweep for a 10-span system as an example of how to augment GPs with physical model priors. \n",
    "PLAN: \n",
    "* implement physical model-enhanced (homoscedastic) GP model for toy SNR(Pch) dataset \n",
    "* compare results with library, such as GPy\n",
    "* compare results with own GP implementation with no physical model \n",
    "STEPS: \n",
    "1. Implement homoscedastic GP regression from stratch (object-orientated)\n",
    "2. Implement a modified version in which physical models are used in fitting process and compare"
   ]
  },
  {
   "cell_type": "code",
   "execution_count": 26,
   "id": "obvious-samuel",
   "metadata": {},
   "outputs": [],
   "source": [
    "import numpy as np\n",
    "import matplotlib.pyplot as plt\n",
    "import matplotlib\n",
    "import GPy\n",
    "import time"
   ]
  },
  {
   "cell_type": "code",
   "execution_count": 53,
   "id": "drawn-directive",
   "metadata": {},
   "outputs": [],
   "source": [
    "font = { 'family' : 'sans-serif',\n",
    "                'weight' : 'normal',\n",
    "                'size'   : 14}\n",
    "matplotlib.rc('font', **font)"
   ]
  },
  {
   "cell_type": "code",
   "execution_count": 68,
   "id": "seeing-tackle",
   "metadata": {},
   "outputs": [],
   "source": [
    "data_dir = '/Users/joshnevin/Desktop/JavierBERdata/'\n",
    "snr = np.genfromtxt(open(str(data_dir) + \"pchexpsnrsam100.csv\", \"r\"), delimiter=\",\", dtype =float)[21:60]\n",
    "pch = np.genfromtxt(open(str(data_dir) + \"pchexppchsam100.csv\", \"r\"), delimiter=\",\", dtype =float)[21:60]"
   ]
  },
  {
   "cell_type": "code",
   "execution_count": 69,
   "id": "unable-payday",
   "metadata": {},
   "outputs": [
    {
     "data": {
      "image/png": "[encoded data removed]",
      "text/plain": [
       "<Figure size 432x288 with 1 Axes>"
      ]
     },
     "metadata": {
      "needs_background": "light"
     },
     "output_type": "display_data"
    }
   ],
   "source": [
    "plt.plot(pch, snr, 'b+')\n",
    "plt.xlabel(\"Pch (dBm)\")\n",
    "plt.ylabel(\"SNR (dB)\")\n",
    "plt.show()"
   ]
  },
  {
   "cell_type": "code",
   "execution_count": 61,
   "id": "tracked-solution",
   "metadata": {},
   "outputs": [
    {
     "name": "stdout",
     "output_type": "stream",
     "text": [
      "-1.0\n"
     ]
    }
   ],
   "source": [
    "print(min(pch))"
   ]
  },
  {
   "cell_type": "markdown",
   "id": "athletic-prairie",
   "metadata": {},
   "source": [
    "Data consists of time series measurements of SNR as a function of Pch - values are recorded in 0.5 dBm increments, with multiple recorded values of SNR at each Pch. "
   ]
  },
  {
   "cell_type": "markdown",
   "id": "fiscal-earth",
   "metadata": {},
   "source": [
    "We can define a GP model using the GPy library, a powerful open source Gaussian Process library."
   ]
  },
  {
   "cell_type": "code",
   "execution_count": 70,
   "id": "marked-rabbit",
   "metadata": {},
   "outputs": [],
   "source": [
    "snr = snr.reshape(len(snr),1)\n",
    "pch = pch.reshape(len(pch),1)"
   ]
  },
  {
   "cell_type": "code",
   "execution_count": 72,
   "id": "valued-youth",
   "metadata": {},
   "outputs": [
    {
     "name": "stdout",
     "output_type": "stream",
     "text": [
      "GPy took 0.06316375732421875s\n",
      "GPy LML = 75.07804853891383\n"
     ]
    }
   ],
   "source": [
    "kern_gpy = GPy.kern.RBF(1) + GPy.kern.White(1) \n",
    "m1 = GPy.models.GPRegression(pch,snr,kern_gpy)\n",
    "start = time.time()\n",
    "m1.optimize()\n",
    "end = time.time()\n",
    "print(\"GPy took \" + str(end-start) + \"s\")\n",
    "lml_sgp = m1.log_likelihood()\n",
    "print(\"GPy LML = \" + str(lml_sgp))"
   ]
  },
  {
   "cell_type": "code",
   "execution_count": 73,
   "id": "efficient-constant",
   "metadata": {},
   "outputs": [],
   "source": [
    "mu_gpy, var_gpy = m1.predict(pch)  # extract predictive mean and variance from GPy model \n",
    "std_gpy = var_gpy**0.5\n",
    "mu_gpy_p = mu_gpy + std_gpy*2\n",
    "mu_gpy_n = mu_gpy - std_gpy*2"
   ]
  },
  {
   "cell_type": "code",
   "execution_count": 74,
   "id": "weird-meditation",
   "metadata": {},
   "outputs": [
    {
     "data": {
      "image/png": "[encoded data removed]",
      "text/plain": [
       "<Figure size 432x288 with 1 Axes>"
      ]
     },
     "metadata": {
      "needs_background": "light"
     },
     "output_type": "display_data"
    }
   ],
   "source": [
    "f, ax = plt.subplots()\n",
    "ax.plot(pch, mu_gpy, color = 'b')\n",
    "ax.plot(pch, snr,'k+')\n",
    "ax.fill(np.concatenate([pch, pch[::-1]]),\n",
    "            np.concatenate([mu_gpy_p,\n",
    "                            (mu_gpy_n)[::-1]]),\n",
    "            alpha=0.3, fc='r', ec='None', label='2 $\\sigma$')\n",
    "plt.xlim(pch[0], pch[-1])\n",
    "plt.xlabel(\"Pch (dBm)\")\n",
    "plt.ylabel(\"SNR (dB)\")\n",
    "plt.legend()\n",
    "ax.set_aspect(1.0/ax.get_data_ratio(), adjustable='box')\n",
    "#plt.savefig('.pdf', dpi=200,bbox_inches='tight')\n",
    "plt.show()"
   ]
  },
  {
   "cell_type": "code",
   "execution_count": 71,
   "id": "funny-vulnerability",
   "metadata": {},
   "outputs": [
    {
     "ename": "SyntaxError",
     "evalue": "invalid syntax (<ipython-input-71-cb82f3e8c67e>, line 2)",
     "output_type": "error",
     "traceback": [
      "\u001b[0;36m  File \u001b[0;32m\"<ipython-input-71-cb82f3e8c67e>\"\u001b[0;36m, line \u001b[0;32m2\u001b[0m\n\u001b[0;31m    def __init__(self, x, y, kernel, phys_model)\u001b[0m\n\u001b[0m                                                ^\u001b[0m\n\u001b[0;31mSyntaxError\u001b[0m\u001b[0;31m:\u001b[0m invalid syntax\n"
     ]
    }
   ],
   "source": [
    "class phys_GP:\n",
    "    def __init__(self, x, y, kernel, phys_model)\n",
    "        self.x = x \n",
    "        self.y = y\n",
    "        self.kernel = kernel\n",
    "        self.phys_model = phys_model\n",
    "    def fit(self):\n",
    "        \n",
    "    "
   ]
  },
  {
   "cell_type": "code",
   "execution_count": null,
   "id": "prompt-syntax",
   "metadata": {},
   "outputs": [],
   "source": []
  }
 ],
 "metadata": {
  "kernelspec": {
   "display_name": "Python 3",
   "language": "python",
   "name": "python3"
  },
  "language_info": {
   "codemirror_mode": {
    "name": "ipython",
    "version": 3
   },
   "file_extension": ".py",
   "mimetype": "text/x-python",
   "name": "python",
   "nbconvert_exporter": "python",
   "pygments_lexer": "ipython3",
   "version": "3.8.0"
  }
 },
 "nbformat": 4,
 "nbformat_minor": 5
}
