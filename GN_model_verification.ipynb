{
 "cells": [
  {
   "cell_type": "code",
   "execution_count": 1,
   "id": "upper-cycling",
   "metadata": {},
   "outputs": [],
   "source": [
    "import numpy as np\n",
    "import matplotlib.pyplot as plt\n",
    "import matplotlib\n",
    "font = { 'family' : 'sans-serif',\n",
    "                'weight' : 'normal',\n",
    "                'size'   : 14}\n",
    "matplotlib.rc('font', **font)\n",
    "data_dir = '/Users/joshnevin/Desktop/JavierBERdata/'\n",
    "snr = np.genfromtxt(open(str(data_dir) + \"pchexpsnrsam100.csv\", \"r\"), delimiter=\",\", dtype =float)[21:60]\n",
    "pch = np.genfromtxt(open(str(data_dir) + \"pchexppchsam100.csv\", \"r\"), delimiter=\",\", dtype =float)[21:60]"
   ]
  },
  {
   "cell_type": "code",
   "execution_count": 2,
   "id": "characteristic-diagram",
   "metadata": {},
   "outputs": [],
   "source": [
    "class GN_model:\n",
    "    def __init__(self, span_len, lam_op, num_lam, nl_cof, disp_cof,  alpha, r_sym, bchrs, grid_sp, n_fig, num_spans):\n",
    "        self.span_len = span_len\n",
    "        self.lam_op = lam_op\n",
    "        self.num_lam = num_lam\n",
    "        self.nl_cof = nl_cof\n",
    "        self.disp_cof = disp_cof\n",
    "        self.alpha = alpha\n",
    "        self.r_sym = r_sym\n",
    "        self.bchrs = bchrs\n",
    "        self.grid_sp = grid_sp\n",
    "        self.n_fig = n_fig\n",
    "        self.num_spans = num_spans\n",
    "        self.freq = 299792458/(self.lam_op*1e-9)\n",
    "        self.al_lin = np.log((10**(self.alpha/10)))/2 # fibre loss [1/km] \n",
    "        self.beta2 = (self.disp_cof*(self.lam_op**2))/(2*np.pi*299792.458) # dispersion coefficient at given wavelength [ps^2/km]\n",
    "        self.l_eff = (1 - np.exp(-2*self.al_lin*self.span_len ))/(2*self.al_lin) # effective length [km]\n",
    "        self.l_eff_as = 1/(2*self.al_lin) # the asymptotic effective length [km]  \n",
    "        self.h = 6.63*1e-34 # Planck's constant [Js]\n",
    "        self.Bwdm = self.bchrs * self.num_lam ** ( self.bchrs / self.grid_sp )  # channel BW [GHz]\n",
    "        self.epsilon = 0.3*np.log(1 + ( 6 * self.l_eff_as ) / ( self.span_len * np.arcsinh( 0.5*np.pi**2 * self.beta2 *self.l_eff_as * self.Bwdm**2 )  )  )\n",
    "    def predict_snr(self, p_ch):\n",
    "        Gwdm = (1e-3*self.convert_to_lin(p_ch))/(self.bchrs*1e9)  # [W]\n",
    "        Gnli = (1e24*(8/27)*(self.nl_cof**2)*(Gwdm**3)*(self.l_eff**2) ) /(np.pi*self.beta2*self.l_eff_as)  *  (np.arcsinh((np.pi**2)*0.5*self.beta2*self.l_eff_as*(self.bchrs**2)*(self.num_lam**((2*self.bchrs)/self.grid_sp))  ) )*self.num_spans**(1 + self.epsilon)                                                                             \n",
    "        Pase = self.n_fig*self.h*self.freq*(self.convert_to_lin(self.alpha*self.span_len) - 1)*self.bchrs*1e9*self.num_spans       \n",
    "        Pch = 1e-3*10**(p_ch/10) \n",
    "        snr = (Pch/(Pase + Gnli*self.bchrs*1e9))\n",
    "        #snr = ( snr**(-1) + (convert_to_lin(TRxb2b))**(-1) )**(-1)\n",
    "        return self.convert_to_db(snr)\n",
    "    \n",
    "    def find_pch_opt(self):  # return optimal Pch in dBm\n",
    "        PchdBm = np.linspace(-6,6,500)  # 500 datapoints for higher resolution of Pch\n",
    "        numpch = len(PchdBm)\n",
    "        Pchsw = 1e-3*10**(PchdBm/10)  # convert from dBm to linear units [W]\n",
    "        Gwdmsw = Pchsw/(self.bchrs*1e9)\n",
    "        Gnlisw = (1e24*(8/27)*(self.nl_cof**2)*(Gwdmsw**3)*(self.l_eff**2) ) /(np.pi*self.beta2*self.l_eff_as)  *  (np.arcsinh((np.pi**2)*0.5*self.beta2*self.l_eff_as*(self.bchrs**2)*(self.num_lam**((2*self.bchrs)/self.grid_sp))  ) )                                                                            \n",
    "        G = self.alpha*self.span_len\n",
    "        NFl = 10**(self.n_fig/10) # convert to linear noise figure\n",
    "        Gl = 10**(G/10) # convert to linear gain\n",
    "        Pasesw = NFl*self.h*self.freq*(Gl - 1)*self.bchrs*1e9 # [W] the ASE noise power in one Nyquist channel across all spans\n",
    "        snrsw = (Pchsw)/(Pasesw*np.ones(numpch) + Gnlisw*self.bchrs*1e9)\n",
    "        return PchdBm[np.argmax(snrsw)] \n",
    "    \n",
    "    def convert_to_lin(self, x):\n",
    "        return 10**(x/10)\n",
    "    \n",
    "    def convert_to_db(self, x):\n",
    "        return 10*np.log10(x)"
   ]
  },
  {
   "cell_type": "markdown",
   "id": "laughing-adams",
   "metadata": {},
   "source": [
    "**Inputs**: span length [km], operating central wavelength [nm], number of wavelengths, nonlinearity coefficient, dispersion coefficient, loss [db/km], symbol rate [GBd], channel bandwidth [GHz], grid spacing [GHz], EDFA noise figure [dB], number of spans "
   ]
  },
  {
   "cell_type": "code",
   "execution_count": 3,
   "id": "vocal-swaziland",
   "metadata": {},
   "outputs": [],
   "source": [
    "phys_model = GN_model(100, 1550, 1, 1.27, 16.7, 0.2, 32, 41.6, 50, 4.5, 10)"
   ]
  },
  {
   "cell_type": "code",
   "execution_count": 4,
   "id": "guided-ireland",
   "metadata": {},
   "outputs": [
    {
     "data": {
      "text/plain": [
       "13.744474900148019"
      ]
     },
     "execution_count": 4,
     "metadata": {},
     "output_type": "execute_result"
    }
   ],
   "source": [
    "phys_model.predict_snr(1.0)"
   ]
  },
  {
   "cell_type": "code",
   "execution_count": 5,
   "id": "specified-thanks",
   "metadata": {},
   "outputs": [
    {
     "data": {
      "text/plain": [
       "-0.9018036072144291"
      ]
     },
     "execution_count": 5,
     "metadata": {},
     "output_type": "execute_result"
    }
   ],
   "source": [
    "phys_model.find_pch_opt()"
   ]
  },
  {
   "cell_type": "code",
   "execution_count": 6,
   "id": "royal-breath",
   "metadata": {},
   "outputs": [
    {
     "data": {
      "text/plain": [
       "0.023652609347601182"
      ]
     },
     "execution_count": 6,
     "metadata": {},
     "output_type": "execute_result"
    }
   ],
   "source": [
    "phys_model.epsilon"
   ]
  },
  {
   "cell_type": "code",
   "execution_count": 7,
   "id": "boring-naples",
   "metadata": {},
   "outputs": [],
   "source": [
    "snr_gn = phys_model.predict_snr(pch)"
   ]
  },
  {
   "cell_type": "code",
   "execution_count": 8,
   "id": "elegant-christianity",
   "metadata": {},
   "outputs": [
    {
     "data": {
      "image/png": "[encoded data removed]",
      "text/plain": [
       "<Figure size 432x288 with 1 Axes>"
      ]
     },
     "metadata": {
      "needs_background": "light"
     },
     "output_type": "display_data"
    }
   ],
   "source": [
    "plt.plot(pch, snr_gn, 'b-')\n",
    "plt.plot(pch, snr, 'r+')\n",
    "plt.show()"
   ]
  },
  {
   "cell_type": "markdown",
   "id": "exciting-december",
   "metadata": {},
   "source": [
    "Still appears to be miles off - could be a case of getting the correct input parameters but the shapes look so different...\n",
    "Another idea: use the simple model for system performance David uses in his (as yet not accepted) paper:\n",
    "$SNR^{-1} = {SNR_0}^{-1}\\frac{1}{N} \\sum_{i=1}^N \\frac{2 + p_i^3}{3p_i} + \\sigma g $.\n",
    "* N = number of spans\n",
    "* $SNR_0$ = estimate of peak SNR \n",
    "* p = power divided by the optimal power, such that at $p=p_0$, $SNR = SNR_0$\n",
    "* g = _N_(0,1)\n",
    "Note that in this case, the launch powers are uniform so we can replace the sum with multiplying by the number of spans."
   ]
  },
  {
   "cell_type": "code",
   "execution_count": 9,
   "id": "anonymous-parker",
   "metadata": {},
   "outputs": [
    {
     "data": {
      "text/plain": [
       "13.365315517943994"
      ]
     },
     "execution_count": 9,
     "metadata": {},
     "output_type": "execute_result"
    }
   ],
   "source": [
    "max(snr)"
   ]
  },
  {
   "cell_type": "code",
   "execution_count": 10,
   "id": "federal-allergy",
   "metadata": {},
   "outputs": [
    {
     "data": {
      "text/plain": [
       "-0.6572546410163808"
      ]
     },
     "execution_count": 10,
     "metadata": {},
     "output_type": "execute_result"
    }
   ],
   "source": [
    "np.random.normal(0, 1)"
   ]
  },
  {
   "cell_type": "code",
   "execution_count": 23,
   "id": "textile-petroleum",
   "metadata": {},
   "outputs": [],
   "source": [
    "class simple_snr_model:\n",
    "    def __init__(self, num_spans, snr_pk, p_opt, sigma):\n",
    "        self.num_spans = num_spans\n",
    "        self.snr_pk = self.convert_to_lin(snr_pk)\n",
    "        self.p_opt = 1e-3*self.convert_to_lin(p_opt)\n",
    "        self.sigma = sigma\n",
    "    \n",
    "    def predict_snr(self, p_in):\n",
    "        p_in = 1e-3*self.convert_to_lin(p_in)\n",
    "        p_norm = p_in/self.p_opt\n",
    "        snr = 1 / ( self.snr_pk**(-1) * self.num_spans * ( (2 + p_norm**3) / (3 * p_norm )  ) + self.sigma*np.random.normal(0, 1) )\n",
    "        return self.convert_to_db(snr)\n",
    "    \n",
    "    def convert_to_lin(self, x):\n",
    "        return 10**(x/10)\n",
    "    \n",
    "    def convert_to_db(self, x):\n",
    "        return 10*np.log10(x)\n",
    "    "
   ]
  },
  {
   "cell_type": "code",
   "execution_count": 24,
   "id": "democratic-calendar",
   "metadata": {},
   "outputs": [],
   "source": [
    "ten_span_model = simple_snr_model(10, 13.3, 1.5, 0.045)"
   ]
  },
  {
   "cell_type": "code",
   "execution_count": 25,
   "id": "small-accuracy",
   "metadata": {},
   "outputs": [
    {
     "data": {
      "text/plain": [
       "array([1.57748398, 1.57748398, 1.57748398, 1.95242568, 1.95242568,\n",
       "       1.95242568, 2.28875205, 2.28875205, 2.28875205, 2.57512453,\n",
       "       2.57512453, 2.57512453, 2.79815568, 2.79815568, 2.79815568,\n",
       "       2.94297881, 2.94297881, 2.94297881, 2.99443863, 2.99443863,\n",
       "       2.99443863, 2.93889766, 2.93889766, 2.93889766, 2.76636396,\n",
       "       2.76636396, 2.76636396, 2.47234868, 2.47234868, 2.47234868,\n",
       "       2.05878714, 2.05878714, 2.05878714, 1.53365029, 1.53365029,\n",
       "       1.53365029, 0.90940627, 0.90940627, 0.90940627])"
      ]
     },
     "execution_count": 25,
     "metadata": {},
     "output_type": "execute_result"
    }
   ],
   "source": [
    "ten_span_model.predict_snr(pch)"
   ]
  },
  {
   "cell_type": "code",
   "execution_count": null,
   "id": "reasonable-strand",
   "metadata": {},
   "outputs": [],
   "source": []
  }
 ],
 "metadata": {
  "kernelspec": {
   "display_name": "Python 3",
   "language": "python",
   "name": "python3"
  },
  "language_info": {
   "codemirror_mode": {
    "name": "ipython",
    "version": 3
   },
   "file_extension": ".py",
   "mimetype": "text/x-python",
   "name": "python",
   "nbconvert_exporter": "python",
   "pygments_lexer": "ipython3",
   "version": "3.8.0"
  }
 },
 "nbformat": 4,
 "nbformat_minor": 5
}
