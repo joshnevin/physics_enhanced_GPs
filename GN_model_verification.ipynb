{
 "cells": [
  {
   "cell_type": "code",
   "execution_count": 55,
   "id": "upper-cycling",
   "metadata": {},
   "outputs": [],
   "source": [
    "import numpy as np\n",
    "import matplotlib.pyplot as plt\n",
    "import matplotlib\n",
    "font = { 'family' : 'sans-serif',\n",
    "                'weight' : 'normal',\n",
    "                'size'   : 14}\n",
    "matplotlib.rc('font', **font)\n",
    "data_dir = '/Users/joshnevin/Desktop/JavierBERdata/'\n",
    "snr = np.genfromtxt(open(str(data_dir) + \"pchexpsnrsam100.csv\", \"r\"), delimiter=\",\", dtype =float)#[21:60]\n",
    "pch = np.genfromtxt(open(str(data_dir) + \"pchexppchsam100.csv\", \"r\"), delimiter=\",\", dtype =float)#[21:60]"
   ]
  },
  {
   "cell_type": "code",
   "execution_count": 56,
   "id": "characteristic-diagram",
   "metadata": {},
   "outputs": [],
   "source": [
    "class GN_model:\n",
    "    def __init__(self, span_len, lam_op, num_lam, nl_cof, disp_cof,  alpha, r_sym, bchrs, grid_sp, n_fig, num_spans):\n",
    "        self.span_len = span_len\n",
    "        self.lam_op = lam_op\n",
    "        self.num_lam = num_lam\n",
    "        self.nl_cof = nl_cof\n",
    "        self.disp_cof = disp_cof\n",
    "        self.alpha = alpha\n",
    "        self.r_sym = r_sym\n",
    "        self.bchrs = bchrs\n",
    "        self.grid_sp = grid_sp\n",
    "        self.n_fig = n_fig\n",
    "        self.num_spans = num_spans\n",
    "        self.freq = 299792458/(self.lam_op*1e-9)\n",
    "        self.al_lin = np.log((10**(self.alpha/10)))/2 # fibre loss [1/km] \n",
    "        self.beta2 = (self.disp_cof*(self.lam_op**2))/(2*np.pi*299792.458) # dispersion coefficient at given wavelength [ps^2/km]\n",
    "        self.l_eff = (1 - np.exp(-2*self.al_lin*self.span_len ))/(2*self.al_lin) # effective length [km]\n",
    "        self.l_eff_as = 1/(2*self.al_lin) # the asymptotic effective length [km]  \n",
    "        self.h = 6.63*1e-34 # Planck's constant [Js]\n",
    "        self.Bwdm = self.bchrs * self.num_lam ** ( self.bchrs / self.grid_sp )  # channel BW [GHz]\n",
    "        self.epsilon = 0.3*np.log(1 + ( 6 * self.l_eff_as ) / ( self.span_len * np.arcsinh( 0.5*np.pi**2 * self.beta2 *self.l_eff_as * self.Bwdm**2 )  )  )\n",
    "    def predict_snr(self, p_ch):\n",
    "        Gwdm = (1e-3*self.convert_to_lin(p_ch))/(self.bchrs*1e9)  # [W]\n",
    "        Gnli = (1e24*(8/27)*(self.nl_cof**2)*(Gwdm**3)*(self.l_eff**2) ) /(np.pi*self.beta2*self.l_eff_as)  *  (np.arcsinh((np.pi**2)*0.5*self.beta2*self.l_eff_as*(self.bchrs**2)*(self.num_lam**((2*self.bchrs)/self.grid_sp))  ) )*self.num_spans**(1 + self.epsilon)                                                                             \n",
    "        Pase = self.n_fig*self.h*self.freq*(self.convert_to_lin(self.alpha*self.span_len) - 1)*self.bchrs*1e9*self.num_spans       \n",
    "        Pch = 1e-3*10**(p_ch/10) \n",
    "        snr = (Pch/(Pase + Gnli*self.bchrs*1e9))\n",
    "        #snr = ( snr**(-1) + (convert_to_lin(TRxb2b))**(-1) )**(-1)\n",
    "        return self.convert_to_db(snr)\n",
    "    \n",
    "    def find_pch_opt(self):  # return optimal Pch in dBm\n",
    "        PchdBm = np.linspace(-6,6,500)  # 500 datapoints for higher resolution of Pch\n",
    "        numpch = len(PchdBm)\n",
    "        Pchsw = 1e-3*10**(PchdBm/10)  # convert from dBm to linear units [W]\n",
    "        Gwdmsw = Pchsw/(self.bchrs*1e9)\n",
    "        Gnlisw = (1e24*(8/27)*(self.nl_cof**2)*(Gwdmsw**3)*(self.l_eff**2) ) /(np.pi*self.beta2*self.l_eff_as)  *  (np.arcsinh((np.pi**2)*0.5*self.beta2*self.l_eff_as*(self.bchrs**2)*(self.num_lam**((2*self.bchrs)/self.grid_sp))  ) )                                                                            \n",
    "        G = self.alpha*self.span_len\n",
    "        NFl = 10**(self.n_fig/10) # convert to linear noise figure\n",
    "        Gl = 10**(G/10) # convert to linear gain\n",
    "        Pasesw = NFl*self.h*self.freq*(Gl - 1)*self.bchrs*1e9 # [W] the ASE noise power in one Nyquist channel across all spans\n",
    "        snrsw = (Pchsw)/(Pasesw*np.ones(numpch) + Gnlisw*self.bchrs*1e9)\n",
    "        return PchdBm[np.argmax(snrsw)] \n",
    "    \n",
    "    def convert_to_lin(self, x):\n",
    "        return 10**(x/10)\n",
    "    \n",
    "    def convert_to_db(self, x):\n",
    "        return 10*np.log10(x)"
   ]
  },
  {
   "cell_type": "markdown",
   "id": "laughing-adams",
   "metadata": {},
   "source": [
    "**Inputs**: span length [km], operating central wavelength [nm], number of wavelengths, nonlinearity coefficient, dispersion coefficient, loss [db/km], symbol rate [GBd], channel bandwidth [GHz], grid spacing [GHz], EDFA noise figure [dB], number of spans "
   ]
  },
  {
   "cell_type": "code",
   "execution_count": 57,
   "id": "vocal-swaziland",
   "metadata": {},
   "outputs": [],
   "source": [
    "phys_model = GN_model(100, 1550, 1, 1.27, 16.7, 0.2, 32, 41.6, 50, 4.5, 10)"
   ]
  },
  {
   "cell_type": "code",
   "execution_count": 58,
   "id": "guided-ireland",
   "metadata": {},
   "outputs": [
    {
     "data": {
      "text/plain": [
       "13.744474900148019"
      ]
     },
     "execution_count": 58,
     "metadata": {},
     "output_type": "execute_result"
    }
   ],
   "source": [
    "phys_model.predict_snr(1.0)"
   ]
  },
  {
   "cell_type": "code",
   "execution_count": 59,
   "id": "specified-thanks",
   "metadata": {},
   "outputs": [
    {
     "data": {
      "text/plain": [
       "-0.9018036072144291"
      ]
     },
     "execution_count": 59,
     "metadata": {},
     "output_type": "execute_result"
    }
   ],
   "source": [
    "phys_model.find_pch_opt()"
   ]
  },
  {
   "cell_type": "code",
   "execution_count": 60,
   "id": "royal-breath",
   "metadata": {},
   "outputs": [
    {
     "data": {
      "text/plain": [
       "0.023652609347601182"
      ]
     },
     "execution_count": 60,
     "metadata": {},
     "output_type": "execute_result"
    }
   ],
   "source": [
    "phys_model.epsilon"
   ]
  },
  {
   "cell_type": "code",
   "execution_count": 61,
   "id": "boring-naples",
   "metadata": {},
   "outputs": [],
   "source": [
    "snr_gn = phys_model.predict_snr(pch)"
   ]
  },
  {
   "cell_type": "code",
   "execution_count": 62,
   "id": "elegant-christianity",
   "metadata": {},
   "outputs": [
    {
     "data": {
      "image/png": "[encoded data removed]",
      "text/plain": [
       "<Figure size 432x288 with 1 Axes>"
      ]
     },
     "metadata": {
      "needs_background": "light"
     },
     "output_type": "display_data"
    }
   ],
   "source": [
    "plt.plot(pch, snr_gn, 'b-')\n",
    "plt.plot(pch, snr, 'r+')\n",
    "plt.show()"
   ]
  },
  {
   "cell_type": "markdown",
   "id": "exciting-december",
   "metadata": {},
   "source": [
    "Still appears to be miles off - could be a case of getting the correct input parameters but the shapes look so different...\n",
    "Another idea: use the simple model for system performance David uses in his (as yet not accepted) paper:\n",
    "$SNR^{-1} = {SNR_0}^{-1}\\frac{1}{N} \\sum_{i=1}^N \\frac{2 + p_i^3}{3p_i} + \\sigma g $.\n",
    "* N = number of spans\n",
    "* $SNR_0$ = estimate of peak SNR \n",
    "* p = power divided by the optimal power, such that at $p=p_0$, $SNR = SNR_0$\n",
    "* g = _N_(0,1)\n",
    "Note that in this case, the launch powers are uniform so we can replace the sum with multiplying by the number of spans."
   ]
  },
  {
   "cell_type": "code",
   "execution_count": 63,
   "id": "anonymous-parker",
   "metadata": {},
   "outputs": [
    {
     "data": {
      "text/plain": [
       "13.365315517943994"
      ]
     },
     "execution_count": 63,
     "metadata": {},
     "output_type": "execute_result"
    }
   ],
   "source": [
    "max(snr)"
   ]
  },
  {
   "cell_type": "code",
   "execution_count": 64,
   "id": "federal-allergy",
   "metadata": {},
   "outputs": [
    {
     "data": {
      "text/plain": [
       "-0.6383000777599432"
      ]
     },
     "execution_count": 64,
     "metadata": {},
     "output_type": "execute_result"
    }
   ],
   "source": [
    "np.random.normal(0, 1)"
   ]
  },
  {
   "cell_type": "code",
   "execution_count": 65,
   "id": "textile-petroleum",
   "metadata": {},
   "outputs": [],
   "source": [
    "class simple_snr_model:\n",
    "    def __init__(self, num_spans, snr_pk, p_opt, sigma):\n",
    "        self.num_spans = num_spans\n",
    "        self.snr_pk = self.convert_to_lin(snr_pk)\n",
    "        self.p_opt = 1e-3*self.convert_to_lin(p_opt)\n",
    "        self.sigma = sigma\n",
    "        print(self.snr_pk)\n",
    "    \n",
    "#     def predict_snr(self, p_in):\n",
    "#         p_in = 1e-3*self.convert_to_lin(p_in)\n",
    "#         p_norm = p_in/self.p_opt\n",
    "#         snr = 1 / ( self.snr_pk**(-1) * self.num_spans * ( (2 + p_norm**3) / (3 * p_norm )  ) )\n",
    "#         return self.convert_to_db(snr)  + self.sigma*np.random.normal(0, 1) \n",
    "\n",
    "    def predict_snr(self, p_in):\n",
    "        p_in = 1e-3*self.convert_to_lin(p_in)\n",
    "        print(p_in)\n",
    "        p_norm = p_in/self.p_opt\n",
    "        return  self.convert_to_db((3*p_norm /(2 + p_norm**3))*self.snr_pk)  + self.sigma*np.random.normal(0, 1) \n",
    "        \n",
    "    def convert_to_lin(self, x):\n",
    "        return 10**(x/10)\n",
    "    \n",
    "    def convert_to_db(self, x):\n",
    "        return 10*np.log10(x)\n",
    "    "
   ]
  },
  {
   "cell_type": "code",
   "execution_count": 66,
   "id": "democratic-calendar",
   "metadata": {},
   "outputs": [
    {
     "name": "stdout",
     "output_type": "stream",
     "text": [
      "21.379620895022324\n"
     ]
    }
   ],
   "source": [
    "ten_span_model = simple_snr_model(10, 13.3, 1.5, 0.045)"
   ]
  },
  {
   "cell_type": "code",
   "execution_count": 67,
   "id": "small-accuracy",
   "metadata": {},
   "outputs": [
    {
     "name": "stdout",
     "output_type": "stream",
     "text": [
      "[0.00031623 0.00031623 0.00031623 0.00035481 0.00035481 0.00035481\n",
      " 0.00039811 0.00039811 0.00039811 0.00044668 0.00044668 0.00044668\n",
      " 0.00050119 0.00050119 0.00050119 0.00056234 0.00056234 0.00056234\n",
      " 0.00063096 0.00063096 0.00063096 0.00070795 0.00070795 0.00070795\n",
      " 0.00079433 0.00079433 0.00079433 0.00089125 0.00089125 0.00089125\n",
      " 0.001      0.001      0.001      0.00112202 0.00112202 0.00112202\n",
      " 0.00125893 0.00125893 0.00125893 0.00141254 0.00141254 0.00141254\n",
      " 0.00158489 0.00158489 0.00158489 0.00177828 0.00177828 0.00177828\n",
      " 0.00199526 0.00199526 0.00199526 0.00223872 0.00223872 0.00223872\n",
      " 0.00251189 0.00251189 0.00251189 0.00281838 0.00281838 0.00281838\n",
      " 0.00316228 0.00316228 0.00316228 0.00354813 0.00354813 0.00354813\n",
      " 0.00398107 0.00398107 0.00398107]\n"
     ]
    }
   ],
   "source": [
    "snr_simple = ten_span_model.predict_snr(pch)"
   ]
  },
  {
   "cell_type": "code",
   "execution_count": 68,
   "id": "reasonable-strand",
   "metadata": {},
   "outputs": [
    {
     "data": {
      "image/png": "[encoded data removed]",
      "text/plain": [
       "<Figure size 432x288 with 1 Axes>"
      ]
     },
     "metadata": {
      "needs_background": "light"
     },
     "output_type": "display_data"
    }
   ],
   "source": [
    "plt.plot(pch, snr_simple, 'b-')\n",
    "plt.plot(pch, snr, 'r+')\n",
    "plt.show()"
   ]
  },
  {
   "cell_type": "code",
   "execution_count": null,
   "id": "velvet-passion",
   "metadata": {},
   "outputs": [],
   "source": []
  },
  {
   "cell_type": "code",
   "execution_count": null,
   "id": "expensive-preparation",
   "metadata": {},
   "outputs": [],
   "source": []
  }
 ],
 "metadata": {
  "kernelspec": {
   "display_name": "Python 3",
   "language": "python",
   "name": "python3"
  },
  "language_info": {
   "codemirror_mode": {
    "name": "ipython",
    "version": 3
   },
   "file_extension": ".py",
   "mimetype": "text/x-python",
   "name": "python",
   "nbconvert_exporter": "python",
   "pygments_lexer": "ipython3",
   "version": "3.8.0"
  }
 },
 "nbformat": 4,
 "nbformat_minor": 5
}
