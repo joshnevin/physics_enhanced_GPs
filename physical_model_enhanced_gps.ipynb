{
 "cells": [
  {
   "cell_type": "code",
   "execution_count": 7,
   "id": "brutal-afghanistan",
   "metadata": {},
   "outputs": [],
   "source": [
    "import numpy as np\n",
    "import matplotlib.pyplot as plt\n",
    "import matplotlib\n",
    "import time\n",
    "from sklearn.gaussian_process import GaussianProcessRegressor\n",
    "from sklearn.gaussian_process.kernels import RBF, ConstantKernel as C, WhiteKernel as W\n",
    "font = { 'family' : 'sans-serif',\n",
    "                'weight' : 'normal',\n",
    "                'size'   : 14}\n",
    "matplotlib.rc('font', **font)"
   ]
  },
  {
   "cell_type": "code",
   "execution_count": 8,
   "id": "respective-indie",
   "metadata": {},
   "outputs": [],
   "source": [
    "data_dir = '/Users/joshnevin/Desktop/JavierBERdata/'\n",
    "snr = np.genfromtxt(open(str(data_dir) + \"pchexpsnrsam100.csv\", \"r\"), delimiter=\",\", dtype =float)[21:60]\n",
    "pch = np.genfromtxt(open(str(data_dir) + \"pchexppchsam100.csv\", \"r\"), delimiter=\",\", dtype =float)[21:60]"
   ]
  },
  {
   "cell_type": "code",
   "execution_count": 9,
   "id": "optical-eight",
   "metadata": {},
   "outputs": [],
   "source": [
    "class GN_model:\n",
    "    def __init__(self, span_len, lam_op, num_lam, nl_cof, disp_cof,  alpha, r_sym, bchrs, grid_sp, n_fig, num_spans):\n",
    "        self.span_len = span_len\n",
    "        self.lam_op = lam_op\n",
    "        self.num_lam = num_lam\n",
    "        self.nl_cof = nl_cof\n",
    "        self.disp_cof = disp_cof\n",
    "        self.alpha = alpha\n",
    "        self.r_sym = r_sym\n",
    "        self.bchrs = bchrs\n",
    "        self.grid_sp = grid_sp\n",
    "        self.n_fig = n_fig\n",
    "        self.num_spans = num_spans\n",
    "        self.freq = 299792458/(self.lam_op*1e-9)\n",
    "        self.al_lin = np.log((10**(self.alpha/10)))/2 # fibre loss [1/km] \n",
    "        self.beta2 = (self.disp_cof*(self.lam_op**2))/(2*np.pi*299792.458) # dispersion coefficient at given wavelength [ps^2/km]\n",
    "        self.l_eff = (1 - np.exp(-2*self.al_lin*self.span_len ))/(2*self.al_lin) # effective length [km]\n",
    "        self.l_eff_as = 1/(2*self.al_lin) # the asymptotic effective length [km]  \n",
    "        self.h = 6.63*1e-34 # Planck's constant [Js]\n",
    "        self.Bwdm = self.bchrs * self.num_lam ** ( self.bchrs / self.grid_sp )  # channel BW [GHz]\n",
    "        self.epsilon = 0.3*np.log(1 + ( 6 * self.l_eff_as ) / ( self.span_len * np.arcsinh( 0.5*np.pi**2 * self.beta2 *self.l_eff_as * self.Bwdm**2 )  )  )\n",
    "    def predict_snr(self, p_ch):\n",
    "        Gwdm = (1e-3*self.convert_to_lin(p_ch))/(self.bchrs*1e9)  # [W]\n",
    "        Gnli = (1e24*(8/27)*(self.nl_cof**2)*(Gwdm**3)*(self.l_eff**2) ) /(np.pi*self.beta2*self.l_eff_as)  *  (np.arcsinh((np.pi**2)*0.5*self.beta2*self.l_eff_as*(self.bchrs**2)*(self.num_lam**((2*self.bchrs)/self.grid_sp))  ) )*self.num_spans**(1 + self.epsilon)                                                                             \n",
    "        Pase = self.n_fig*self.h*self.freq*(self.convert_to_lin(self.alpha*self.span_len) - 1)*self.bchrs*1e9*self.num_spans       \n",
    "        Pch = 1e-3*10**(p_ch/10) \n",
    "        snr = (Pch/(Pase + Gnli*self.bchrs*1e9))\n",
    "        snr = self.apply_trx_b2b(snr, 16.5)\n",
    "        #snr = ( snr**(-1) + (self.convert_to_lin(16.5))**(-1) )**(-1)\n",
    "        return self.convert_to_db(snr)\n",
    "    \n",
    "    def find_pch_opt(self):  # return optimal Pch in dBm\n",
    "        PchdBm = np.linspace(-6,6,500)  # 500 datapoints for higher resolution of Pch\n",
    "        numpch = len(PchdBm)\n",
    "        Pchsw = 1e-3*10**(PchdBm/10)  # convert from dBm to linear units [W]\n",
    "        Gwdmsw = Pchsw/(self.bchrs*1e9)\n",
    "        Gnlisw = (1e24*(8/27)*(self.nl_cof**2)*(Gwdmsw**3)*(self.l_eff**2) ) /(np.pi*self.beta2*self.l_eff_as)  *  (np.arcsinh((np.pi**2)*0.5*self.beta2*self.l_eff_as*(self.bchrs**2)*(self.num_lam**((2*self.bchrs)/self.grid_sp))  ) )                                                                            \n",
    "        G = self.alpha*self.span_len\n",
    "        NFl = 10**(self.n_fig/10) # convert to linear noise figure\n",
    "        Gl = 10**(G/10) # convert to linear gain\n",
    "        Pasesw = NFl*self.h*self.freq*(Gl - 1)*self.bchrs*1e9 # [W] the ASE noise power in one Nyquist channel across all spans\n",
    "        snrsw = (Pchsw)/(Pasesw*np.ones(numpch) + Gnlisw*self.bchrs*1e9)\n",
    "        return PchdBm[np.argmax(snrsw)]\n",
    "    \n",
    "    def apply_trx_b2b(self, snr, snr_pen):\n",
    "        return ( snr**(-1) + (self.convert_to_lin(16.5))**(-1) )**(-1)\n",
    "    \n",
    "    def convert_to_lin(self, x):\n",
    "        return 10**(x/10)\n",
    "    \n",
    "    def convert_to_db(self, x):\n",
    "        return 10*np.log10(x)"
   ]
  },
  {
   "cell_type": "markdown",
   "id": "hidden-legislation",
   "metadata": {},
   "source": [
    "**Inputs**: span length [km], operating central wavelength [nm], number of wavelengths, nonlinearity coefficient, dispersion coefficient, loss [db/km], symbol rate [GBd], channel bandwidth [GHz], grid spacing [GHz], EDFA noise figure [dB], number of spans "
   ]
  },
  {
   "cell_type": "code",
   "execution_count": 10,
   "id": "computational-premiere",
   "metadata": {},
   "outputs": [],
   "source": [
    "phys_model = GN_model(100, 1550, 1, 1.1, 18, 0.18, 35, 40.2, 50, 4, 10)"
   ]
  },
  {
   "cell_type": "code",
   "execution_count": 15,
   "id": "subject-divorce",
   "metadata": {},
   "outputs": [],
   "source": [
    "pch_gn = np.linspace(-5, 5, 100)\n",
    "pch_shifted = pch - (1.25 - pch_gn[np.argmax(phys_model.predict_snr(pch_gn))])\n",
    "snr_phys = phys_model.predict_snr(pch_shifted).reshape(-1,1)"
   ]
  },
  {
   "cell_type": "code",
   "execution_count": 17,
   "id": "statutory-details",
   "metadata": {},
   "outputs": [
    {
     "data": {
      "image/png": "[encoded data removed]",
      "text/plain": [
       "<Figure size 432x288 with 1 Axes>"
      ]
     },
     "metadata": {
      "needs_background": "light"
     },
     "output_type": "display_data"
    }
   ],
   "source": [
    "plt.plot(pch_shifted, snr, 'r+', label='Data')\n",
    "plt.plot(pch_shifted, snr_phys, 'b-', label='Physical model')\n",
    "plt.xlim([pch_shifted[0], pch_shifted[-1]])\n",
    "plt.xlabel(\"Power per channel (dBm)\")\n",
    "plt.ylabel(\"SNR (dB)\")\n",
    "plt.legend()\n",
    "#plt.savefig('powershifted_gn_comparison.pdf', dpi=200,bbox_inches='tight')\n",
    "plt.show()"
   ]
  },
  {
   "cell_type": "markdown",
   "id": "considered-tablet",
   "metadata": {},
   "source": [
    "Need to think about how many datapoints I will use for the physical model - ideally dont want to use the same number of datapoints as the data as then we dont get the benefit for a low number of points... Need to check if the fit_phys() method works when y_phys and y are not the same length! "
   ]
  },
  {
   "cell_type": "code",
   "execution_count": 16,
   "id": "complete-duration",
   "metadata": {},
   "outputs": [],
   "source": [
    "pch_shifted = pch_shifted.reshape(-1, 1)  # needed for SK learn input\n",
    "snr = snr.reshape(-1, 1)\n",
    "kernel_sk = C(1, (1e-5, 1e5)) * RBF(1, (1e-5, 1e5)) +  W(1, (1e-5,1e5))\n",
    "gpr = GaussianProcessRegressor(kernel=kernel_sk, n_restarts_optimizer = 20, normalize_y=True)\n",
    "gpr.fit_phys(pch_shifted, snr, snr_phys)\n",
    "#print(\"Optimised kernel: %s\" % gpr.kernel_)\n",
    "mu_sk, std_sk = gpr.predict(pch_shifted, return_std=True )\n",
    "std_sk = np.reshape(std_sk,(np.size(std_sk), 1)) \n",
    "theta = gpr.kernel_.theta\n",
    "lml = gpr.log_marginal_likelihood()\n",
    "mu_sk_p = mu_sk + 2*std_sk \n",
    "mu_sk_n = mu_sk - 2*std_sk "
   ]
  },
  {
   "cell_type": "code",
   "execution_count": null,
   "id": "disabled-scout",
   "metadata": {},
   "outputs": [],
   "source": []
  }
 ],
 "metadata": {
  "kernelspec": {
   "display_name": "Python 3",
   "language": "python",
   "name": "python3"
  },
  "language_info": {
   "codemirror_mode": {
    "name": "ipython",
    "version": 3
   },
   "file_extension": ".py",
   "mimetype": "text/x-python",
   "name": "python",
   "nbconvert_exporter": "python",
   "pygments_lexer": "ipython3",
   "version": "3.8.0"
  }
 },
 "nbformat": 4,
 "nbformat_minor": 5
}
