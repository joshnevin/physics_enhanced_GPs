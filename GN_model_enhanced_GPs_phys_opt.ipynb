{
 "cells": [
  {
   "attachments": {},
   "cell_type": "markdown",
   "id": "romance-reform",
   "metadata": {},
   "source": [
    "Use trained phys. GP model to update physical model parameters via least squares fitting to the predictive mean"
   ]
  },
  {
   "cell_type": "code",
   "execution_count": 3,
   "id": "revolutionary-pickup",
   "metadata": {},
   "outputs": [],
   "source": [
    "import numpy as np\n",
    "import matplotlib.pyplot as plt\n",
    "import matplotlib\n",
    "import time\n",
    "from sklearn.gaussian_process import GaussianProcessRegressor\n",
    "from sklearn.gaussian_process.kernels import RBF, ConstantKernel as C, WhiteKernel as W\n",
    "from gn_model import GN_model\n",
    "from scipy.optimize import curve_fit\n",
    "font = { 'family' : 'sans-serif',\n",
    "                'weight' : 'normal',\n",
    "                'size'   : 14}\n",
    "matplotlib.rc('font', **font)"
   ]
  },
  {
   "cell_type": "code",
   "execution_count": 4,
   "id": "cognitive-occasion",
   "metadata": {},
   "outputs": [],
   "source": [
    "data_dir = '/Users/joshnevin/Desktop/JavierBERdata/'\n",
    "snr = np.genfromtxt(open(str(data_dir) + \"pchexpsnrsam100.csv\", \"r\"), delimiter=\",\", dtype =float)#[21:60]\n",
    "pch = np.genfromtxt(open(str(data_dir) + \"pchexppchsam100.csv\", \"r\"), delimiter=\",\", dtype =float)#[21:60]\n",
    "# snr = np.genfromtxt(open(str(data_dir) + \"pchexpsnrsam300.csv\", \"r\"), delimiter=\",\", dtype =float)\n",
    "# pch = np.genfromtxt(open(str(data_dir) + \"pchexppchsam300.csv\", \"r\"), delimiter=\",\", dtype =float)"
   ]
  },
  {
   "cell_type": "markdown",
   "id": "another-sampling",
   "metadata": {},
   "source": [
    "Play around with the amount of data"
   ]
  },
  {
   "cell_type": "code",
   "execution_count": 5,
   "id": "separate-experiment",
   "metadata": {},
   "outputs": [],
   "source": [
    "down_sample_factor = 3\n",
    "snr = np.array([snr[i] for i in range(len(snr)) if i % down_sample_factor == 0])\n",
    "pch = np.array([pch[i] for i in range(len(pch)) if i % down_sample_factor == 0])"
   ]
  },
  {
   "cell_type": "code",
   "execution_count": 6,
   "id": "roman-carnival",
   "metadata": {},
   "outputs": [
    {
     "data": {
      "text/plain": [
       "23"
      ]
     },
     "execution_count": 6,
     "metadata": {},
     "output_type": "execute_result"
    }
   ],
   "source": [
    "len(pch)"
   ]
  },
  {
   "cell_type": "code",
   "execution_count": 7,
   "id": "breathing-substitute",
   "metadata": {},
   "outputs": [
    {
     "data": {
      "image/png": "[encoded data removed]",
      "text/plain": [
       "<Figure size 432x288 with 1 Axes>"
      ]
     },
     "metadata": {
      "needs_background": "light"
     },
     "output_type": "display_data"
    }
   ],
   "source": [
    "snr_sub = np.array([snr[0], snr[5], snr[11], snr[17], snr[-1]])\n",
    "pch_sub = np.array([pch[0], pch[5], pch[11], pch[17], pch[-1]])\n",
    "plt.plot(pch, snr, 'b.', label='Full Data')\n",
    "plt.plot(pch_sub, snr_sub, 'r+', label='Subset')\n",
    "plt.xlabel(\"Power per channel (dBm)\")\n",
    "plt.ylabel(\"SNR (dB)\")\n",
    "plt.legend()\n",
    "plt.show()"
   ]
  },
  {
   "cell_type": "markdown",
   "id": "creative-means",
   "metadata": {},
   "source": [
    "**Inputs**: span length [km], operating central wavelength [nm], number of wavelengths, nonlinearity coefficient, dispersion coefficient, loss [db/km], symbol rate [GBd], channel bandwidth [GHz], grid spacing [GHz], EDFA noise figure [dB], number of spans, TRx back to back SNR mean [dB],  TRx back to back SNR standard dev. [dB], random seed"
   ]
  },
  {
   "cell_type": "code",
   "execution_count": 8,
   "id": "differential-greensboro",
   "metadata": {},
   "outputs": [],
   "source": [
    "def shift_pch(pch, emp_pk):\n",
    "    pch_gn = np.linspace(pch[0], pch[-1], 100)\n",
    "    pch_shifted = pch - (emp_pk - pch_gn[np.argmax(phys_model.predict_snr(pch_gn))])\n",
    "    return pch_shifted\n",
    "def gen_phys_targets(model, pch, num_pts_phys):\n",
    "    pch_gn_shifted = np.linspace(pch[0], pch[-1], num_pts_phys)\n",
    "    snr_phys = (model.predict_snr(pch_gn_shifted)).reshape(-1,1)\n",
    "    return pch_gn_shifted, snr_phys\n",
    "def train_phys_gp(pch, pch_phys, snr, snr_phys, pch_pred):\n",
    "    pch = pch.reshape(-1, 1)  # needed for SK learn input\n",
    "    pch_phys = pch_phys.reshape(-1,1)\n",
    "    pch_pred = pch_pred.reshape(-1,1)\n",
    "    snr = snr.reshape(-1,1)\n",
    "    snr_phys = snr_phys.reshape(-1,1)\n",
    "    kernel_sk = C(1, (1e-5, 1e5)) * RBF(1, (1e-5, 1e5)) +  W(1, (1e-5,1e5))\n",
    "    gpr_phys = GaussianProcessRegressor(kernel=kernel_sk, n_restarts_optimizer = 20, normalize_y=True)\n",
    "    gpr_phys.fit_phys(pch, pch_phys, snr, snr_phys)\n",
    "    mu_sk_phys, std_sk_phys = gpr_phys.predict(pch_pred, return_std=True)\n",
    "    std_sk_phys = np.reshape(std_sk_phys,(np.size(std_sk_phys), 1)) \n",
    "    theta_phys = gpr_phys.kernel_.theta\n",
    "    lml_phys = gpr_phys.log_marginal_likelihood()\n",
    "    return mu_sk_phys, std_sk_phys, theta_phys, lml_phys\n",
    "def train_standard_gp(pch, snr, pch_pred):\n",
    "    pch = pch.reshape(-1, 1)  # needed for SK learn input\n",
    "    snr = snr.reshape(-1,1)\n",
    "    pch_pred = pch_pred.reshape(-1,1)\n",
    "    kernel_sk = C(1, (1e-5, 1e5)) * RBF(1, (1e-5, 1e5)) +  W(1, (1e-5,1e5))\n",
    "    gpr = GaussianProcessRegressor(kernel=kernel_sk, n_restarts_optimizer = 20, normalize_y=True)\n",
    "    gpr.fit(pch, snr)\n",
    "    mu_sk, std_sk = gpr.predict(pch_pred, return_std=True)\n",
    "    std_sk = np.reshape(std_sk,(np.size(std_sk), 1)) \n",
    "    theta = gpr.kernel_.theta\n",
    "    lml = gpr.log_marginal_likelihood()\n",
    "    return mu_sk, std_sk, theta, lml"
   ]
  },
  {
   "cell_type": "code",
   "execution_count": 9,
   "id": "painted-store",
   "metadata": {},
   "outputs": [],
   "source": [
    "#phys_model = GN_model(100, 1550, 1, 0.78, 18, 0.18, 35, 40.2, 50, 5.5, 10, 16.5)\n",
    "phys_model = GN_model(100, 1550, 1, 0.78, 18, 0.18, 35, 40.2, 50, 4.3, 10, 16, 0.04, 4)\n",
    "#phys_model = GN_model(100, 1550, 1, 0.78, 18, 0.174, 35, 40.2, 50, 5.2, 10, 16)"
   ]
  },
  {
   "cell_type": "markdown",
   "id": "seeing-colonial",
   "metadata": {},
   "source": [
    "According to Javier, the measurements of Pch may not be reliable and we may need to shift them in order to obtain agreement with the GN model. We do this by calculating the input power per channel that corresponds to peak SNR in the GN model and shifting the peak of measured data to line up with this prediction."
   ]
  },
  {
   "cell_type": "code",
   "execution_count": 10,
   "id": "senior-coordination",
   "metadata": {},
   "outputs": [],
   "source": [
    "emp_pk = 1.2\n",
    "pch_sub_shifted = shift_pch(pch_sub, emp_pk)\n",
    "pch_shifted = shift_pch(pch, emp_pk)\n",
    "pch_gn_example, snr_phys_example = gen_phys_targets(phys_model, pch_shifted, len(snr))"
   ]
  },
  {
   "cell_type": "code",
   "execution_count": 11,
   "id": "juvenile-bunny",
   "metadata": {},
   "outputs": [],
   "source": [
    "num_pts_phys = 10"
   ]
  },
  {
   "cell_type": "code",
   "execution_count": 12,
   "id": "sized-report",
   "metadata": {},
   "outputs": [
    {
     "name": "stdout",
     "output_type": "stream",
     "text": [
      "0.9777777777777776\n"
     ]
    }
   ],
   "source": [
    "pch_gn = np.linspace(pch[0], pch[-1], 100)\n",
    "emp_pk = 1.2\n",
    "pch_sub_shifted = shift_pch(pch_sub, emp_pk)\n",
    "pch_shifted = shift_pch(pch, emp_pk)\n",
    "pch_gn_shifted, snr_phys = gen_phys_targets(phys_model, pch_shifted, num_pts_phys)\n",
    "print((emp_pk - pch_gn[np.argmax(phys_model.predict_snr(pch_gn))]))"
   ]
  },
  {
   "cell_type": "markdown",
   "id": "confident-demand",
   "metadata": {},
   "source": [
    "Plot the physical model against measured data."
   ]
  },
  {
   "cell_type": "code",
   "execution_count": 13,
   "id": "manual-atlas",
   "metadata": {},
   "outputs": [],
   "source": [
    "pch_test = np.copy(pch_gn_shifted).reshape(-1,1)\n",
    "snr_phys_test = np.copy(snr_phys).reshape(-1,1)"
   ]
  },
  {
   "cell_type": "code",
   "execution_count": 14,
   "id": "third-diagnosis",
   "metadata": {},
   "outputs": [],
   "source": [
    "mu_sk_phys, std_sk_phys, theta_phys, lml_phys = train_phys_gp(pch_sub_shifted, pch_test, snr_sub, snr_phys_test, pch_shifted)\n",
    "mu_sk_p2_phys = mu_sk_phys + 2*std_sk_phys \n",
    "mu_sk_n2_phys = mu_sk_phys - 2*std_sk_phys "
   ]
  },
  {
   "cell_type": "code",
   "execution_count": 15,
   "id": "monthly-circle",
   "metadata": {},
   "outputs": [],
   "source": [
    "mu_sk, std_sk, theta, lml = train_standard_gp(pch_sub_shifted, snr_sub, pch_shifted)\n",
    "mu_sk_p2 = mu_sk + 2*std_sk \n",
    "mu_sk_n2 = mu_sk - 2*std_sk "
   ]
  },
  {
   "cell_type": "code",
   "execution_count": 16,
   "id": "invalid-dispatch",
   "metadata": {},
   "outputs": [],
   "source": [
    "mu_sk_f, std_sk_f, theta_f, lml_f = train_standard_gp(pch_shifted, snr, pch_shifted)\n",
    "mu_sk_p2_f = mu_sk_f + 2*std_sk_f \n",
    "mu_sk_n2_f = mu_sk_f - 2*std_sk_f "
   ]
  },
  {
   "cell_type": "code",
   "execution_count": 17,
   "id": "integrated-negative",
   "metadata": {},
   "outputs": [
    {
     "data": {
      "image/png": "[encoded data removed]",
      "text/plain": [
       "<Figure size 432x288 with 1 Axes>"
      ]
     },
     "metadata": {},
     "output_type": "display_data"
    }
   ],
   "source": [
    "f, ax = plt.subplots()\n",
    "ax.plot(pch_shifted, mu_sk_f, 'b-', label = 'Predictive mean')\n",
    "ax.plot(pch_shifted, snr,'k^', label = 'All data')\n",
    "ax.fill(np.concatenate([pch_shifted, pch_shifted[::-1]]),\n",
    "            np.concatenate([mu_sk_p2_f,\n",
    "                            (mu_sk_n2_f)[::-1]]),\n",
    "            alpha=0.3, fc='r', ec='None', label='2$\\sigma$ confidence')\n",
    "plt.xlim([pch_shifted[0]-0.05, pch_shifted[-1]+0.05])\n",
    "#plt.xticks([-2.5, -1, 0.5, 2, 3.5 ])\n",
    "plt.xticks([-6, -4, -2, 0, 2, 4 ])\n",
    "plt.xlabel(\"Input power (dBm)\")\n",
    "plt.ylabel(\"SNR (dB)\")\n",
    "#plt.title(\"Normal GP\")\n",
    "plt.legend(loc=3,prop={'size':10})\n",
    "ax.set_aspect(1.0/ax.get_data_ratio(), adjustable='box')\n",
    "f.patch.set_facecolor('w')\n",
    "#plt.savefig('figures/comp_standard_gp_full.pdf', dpi=200,bbox_inches='tight')\n",
    "plt.show()"
   ]
  },
  {
   "cell_type": "code",
   "execution_count": 18,
   "id": "alleged-passenger",
   "metadata": {},
   "outputs": [
    {
     "data": {
      "image/png": "[encoded data removed]",
      "text/plain": [
       "<Figure size 432x288 with 1 Axes>"
      ]
     },
     "metadata": {},
     "output_type": "display_data"
    }
   ],
   "source": [
    "f, ax = plt.subplots()\n",
    "ax.plot(pch_shifted, mu_sk_phys, 'b-', label = 'Predictive mean')\n",
    "#ax.plot(pch_shifted, snr,'k+', label = 'All data')\n",
    "ax.plot(pch_test, snr_phys_test, 'gx', label = 'Phys. model targets')\n",
    "ax.plot(pch_sub_shifted, snr_sub,'k^', label = 'Data targets')\n",
    "#ax.plot(pch_shifted, phys_model_snr_plt, 'k:', label = 'Phys. model')\n",
    "ax.fill(np.concatenate([pch_shifted, pch_shifted[::-1]]),\n",
    "            np.concatenate([mu_sk_p2_phys,\n",
    "                            (mu_sk_n2_phys)[::-1]]),\n",
    "            alpha=0.3, fc='r', ec='None', label='2$\\sigma$ confidence')\n",
    "plt.xlim([pch_shifted[0]-0.05, pch_shifted[-1]+0.05])\n",
    "#plt.xticks([-2.5, -1, 0.5, 2, 3.5 ])\n",
    "plt.xticks([-6, -4, -2, 0, 2, 4])\n",
    "plt.xlabel(\"Input power (dBm)\")\n",
    "plt.ylabel(\"SNR (dB)\")\n",
    "#plt.title(\"Physics-enhanced GP\")\n",
    "plt.legend(prop={'size':10})\n",
    "ax.set_aspect(1.0/ax.get_data_ratio(), adjustable='box')\n",
    "f.patch.set_facecolor('w')\n",
    "#plt.savefig('figures/comp_gn_enhanced_gp.pdf', dpi=200,bbox_inches='tight')\n",
    "#plt.savefig('figures/comp_gn_enhanced_gp_009.pdf', dpi=200,bbox_inches='tight')\n",
    "#plt.savefig('figures/comp_gn_enhanced_gp_001.pdf', dpi=200,bbox_inches='tight')\n",
    "plt.show()"
   ]
  },
  {
   "cell_type": "markdown",
   "id": "centered-empty",
   "metadata": {},
   "source": [
    "Now use least squares fitting to optimize the inputs to the physical model.  \n",
    "**Inputs**: span length [km], operating central wavelength [nm], number of wavelengths, nonlinearity coefficient, dispersion coefficient, loss [db/km], symbol rate [GBd], channel bandwidth [GHz], grid spacing [GHz], EDFA noise figure [dB], number of spans, TRx back to back SNR mean [dB],  TRx back to back SNR standard dev. [dB], random seed  \n",
    "Variable parameters: nonlinearity coefficient, dispersion coefficient, loss, EDFA noise figure, TRx back to back SNR mean"
   ]
  },
  {
   "cell_type": "code",
   "execution_count": 161,
   "id": "specified-dynamics",
   "metadata": {},
   "outputs": [],
   "source": [
    "class phys_optimiser:\n",
    "#     def _obj_func(self, p_in, nl_cof, disp_cof, loss, nf, trxbtb):\n",
    "#         model = GN_model(100, 1550, 1, nl_cof, disp_cof, loss, 35, 40.2, 50, nf, 10, trxbtb, 0.04, 4)\n",
    "#         return model.predict_snr(p_in)\n",
    "    def _obj_func(self, p_in, nl_cof, disp_cof, loss, nf):\n",
    "        model = GN_model(100, 1550, 1, nl_cof, disp_cof, loss, 35, 40.2, 50, nf, 10, 16.5, 0.04, 4)\n",
    "        return model.predict_snr(p_in)\n",
    "    def fit(self, p_in, y, init_guess, bounds):\n",
    "        opt_res = curve_fit(self._obj_func, p_in, y, init_guess, bounds=bounds)\n",
    "        return opt_res"
   ]
  },
  {
   "cell_type": "code",
   "execution_count": 162,
   "id": "premier-generation",
   "metadata": {},
   "outputs": [],
   "source": [
    "optimiser = phys_optimiser()"
   ]
  },
  {
   "cell_type": "code",
   "execution_count": 155,
   "id": "automotive-information",
   "metadata": {},
   "outputs": [],
   "source": [
    "# opt_res = optimiser.fit(pch_shifted, y_targets, init_guess = np.array([0.78, 18., 0.18, 4.3, 16.]),  # v. good\n",
    "#                         bounds=([0.70, 16., 0.16, 4., 15.], [1.3, 19., 0.2, 6.5, 17.]))\n",
    "opt_res = optimiser.fit(pch_shifted, y_targets, init_guess = np.array([1., 17., 0.18, 5.5, 16.5]),\n",
    "                        bounds=([0.7, 15., 0.16, 3., 15.], [1.3, 19., 0.2, 6.5, 17.]))"
   ]
  },
  {
   "cell_type": "code",
   "execution_count": 157,
   "id": "foster-honor",
   "metadata": {},
   "outputs": [
    {
     "data": {
      "text/plain": [
       "array([3.70676635e+04, 1.78208481e+06, 4.01382887e+03, 3.03345683e+05,\n",
       "       4.15419983e-02])"
      ]
     },
     "execution_count": 157,
     "metadata": {},
     "output_type": "execute_result"
    }
   ],
   "source": [
    "nl_cof_opt_sig, disp_cof_opt_sig, loss_opt_sig, nf_opt_sig, trxbtb_opt_sig = np.sqrt(np.diag(opt_res[1]))\n",
    "np.sqrt(np.diag(opt_res[1]))"
   ]
  },
  {
   "cell_type": "code",
   "execution_count": 164,
   "id": "surgical-master",
   "metadata": {},
   "outputs": [
    {
     "ename": "ValueError",
     "evalue": "not enough values to unpack (expected 5, got 4)",
     "output_type": "error",
     "traceback": [
      "\u001b[0;31m---------------------------------------------------------------------------\u001b[0m",
      "\u001b[0;31mValueError\u001b[0m                                Traceback (most recent call last)",
      "\u001b[0;32m<ipython-input-164-735ad42ee536>\u001b[0m in \u001b[0;36m<module>\u001b[0;34m\u001b[0m\n\u001b[0;32m----> 1\u001b[0;31m \u001b[0mnl_cof_opt\u001b[0m\u001b[0;34m,\u001b[0m \u001b[0mdisp_cof_opt\u001b[0m\u001b[0;34m,\u001b[0m \u001b[0mloss_opt\u001b[0m\u001b[0;34m,\u001b[0m \u001b[0mnf_opt\u001b[0m\u001b[0;34m,\u001b[0m \u001b[0mtrxbtb_opt\u001b[0m \u001b[0;34m=\u001b[0m \u001b[0mopt_res\u001b[0m\u001b[0;34m[\u001b[0m\u001b[0;36m0\u001b[0m\u001b[0;34m]\u001b[0m\u001b[0;34m\u001b[0m\u001b[0;34m\u001b[0m\u001b[0m\n\u001b[0m\u001b[1;32m      2\u001b[0m \u001b[0mprint\u001b[0m\u001b[0;34m(\u001b[0m\u001b[0;34m\"Opt NL cof. = \"\u001b[0m \u001b[0;34m+\u001b[0m \u001b[0;34m'%.3f'\u001b[0m \u001b[0;34m%\u001b[0m  \u001b[0mnl_cof_opt\u001b[0m\u001b[0;34m)\u001b[0m\u001b[0;34m\u001b[0m\u001b[0;34m\u001b[0m\u001b[0m\n\u001b[1;32m      3\u001b[0m \u001b[0mprint\u001b[0m\u001b[0;34m(\u001b[0m\u001b[0;34m\"Opt disp cof. = \"\u001b[0m \u001b[0;34m+\u001b[0m \u001b[0;34m'%.3f'\u001b[0m \u001b[0;34m%\u001b[0m \u001b[0mdisp_cof_opt\u001b[0m\u001b[0;34m)\u001b[0m\u001b[0;34m\u001b[0m\u001b[0;34m\u001b[0m\u001b[0m\n\u001b[1;32m      4\u001b[0m \u001b[0mprint\u001b[0m\u001b[0;34m(\u001b[0m\u001b[0;34m\"Opt loss = \"\u001b[0m \u001b[0;34m+\u001b[0m \u001b[0;34m'%.3f'\u001b[0m \u001b[0;34m%\u001b[0m \u001b[0mloss_opt\u001b[0m\u001b[0;34m)\u001b[0m\u001b[0;34m\u001b[0m\u001b[0;34m\u001b[0m\u001b[0m\n\u001b[1;32m      5\u001b[0m \u001b[0mprint\u001b[0m\u001b[0;34m(\u001b[0m\u001b[0;34m\"Opt NF = \"\u001b[0m \u001b[0;34m+\u001b[0m \u001b[0;34m'%.3f'\u001b[0m \u001b[0;34m%\u001b[0m \u001b[0mnf_opt\u001b[0m\u001b[0;34m)\u001b[0m\u001b[0;34m\u001b[0m\u001b[0;34m\u001b[0m\u001b[0m\n",
      "\u001b[0;31mValueError\u001b[0m: not enough values to unpack (expected 5, got 4)"
     ]
    }
   ],
   "source": [
    "nl_cof_opt, disp_cof_opt, loss_opt, nf_opt, trxbtb_opt = opt_res[0]\n",
    "print(\"Opt NL cof. = \" + '%.3f' %  nl_cof_opt)\n",
    "print(\"Opt disp cof. = \" + '%.3f' % disp_cof_opt)\n",
    "print(\"Opt loss = \" + '%.3f' % loss_opt)\n",
    "print(\"Opt NF = \" + '%.3f' % nf_opt)\n",
    "print(\"Opt TRX B2B = \" + '%.3f' % trxbtb_opt)"
   ]
  },
  {
   "cell_type": "code",
   "execution_count": 158,
   "id": "young-punch",
   "metadata": {},
   "outputs": [],
   "source": [
    "model_opt = GN_model(100, 1550, 1, nl_cof_opt, disp_cof_opt, loss_opt, 35, 40.2, 50, nf_opt, 10, trxbtb_opt, 0.04, 4)"
   ]
  },
  {
   "cell_type": "markdown",
   "id": "clinical-luther",
   "metadata": {},
   "source": [
    "Try fixing the back to back TRx noise..."
   ]
  },
  {
   "cell_type": "code",
   "execution_count": 165,
   "id": "palestinian-scroll",
   "metadata": {},
   "outputs": [],
   "source": [
    "opt_res = optimiser.fit(pch_shifted, y_targets, init_guess = np.array([1., 17., 0.18, 5.5]),\n",
    "                        bounds=([0.7, 15., 0.16, 4.], [1.3, 19., 0.2, 6.5]))"
   ]
  },
  {
   "cell_type": "code",
   "execution_count": 166,
   "id": "french-classroom",
   "metadata": {},
   "outputs": [
    {
     "name": "stdout",
     "output_type": "stream",
     "text": [
      "Opt NL cof. = 0.786\n",
      "Opt disp cof. = 18.429\n",
      "Opt loss = 0.179\n",
      "Opt NF = 4.688\n"
     ]
    }
   ],
   "source": [
    "nl_cof_opt, disp_cof_opt, loss_opt, nf_opt = opt_res[0]\n",
    "print(\"Opt NL cof. = \" + '%.3f' %  nl_cof_opt)\n",
    "print(\"Opt disp cof. = \" + '%.3f' % disp_cof_opt)\n",
    "print(\"Opt loss = \" + '%.3f' % loss_opt)\n",
    "print(\"Opt NF = \" + '%.3f' % nf_opt)"
   ]
  },
  {
   "cell_type": "code",
   "execution_count": 167,
   "id": "viral-blend",
   "metadata": {},
   "outputs": [],
   "source": [
    "model_opt = GN_model(100, 1550, 1, nl_cof_opt, disp_cof_opt, loss_opt, 35, 40.2, 50, nf_opt, 10, 16.5, 0.04, 4)"
   ]
  },
  {
   "cell_type": "code",
   "execution_count": 168,
   "id": "affecting-structure",
   "metadata": {},
   "outputs": [],
   "source": [
    "phys_snr_opt = model_opt.predict_snr(pch_shifted)  # optimised model\n",
    "phys_snr = phys_model.predict_snr(pch_shifted)     # initial model"
   ]
  },
  {
   "cell_type": "code",
   "execution_count": 169,
   "id": "amended-wallpaper",
   "metadata": {},
   "outputs": [
    {
     "data": {
      "image/png": "[encoded data removed]",
      "text/plain": [
       "<Figure size 432x288 with 1 Axes>"
      ]
     },
     "metadata": {},
     "output_type": "display_data"
    }
   ],
   "source": [
    "f, ax = plt.subplots()\n",
    "#ax.plot(pch_shifted, mu_sk_phys, 'b-', label = 'Predictive mean')\n",
    "ax.plot(pch_shifted, phys_snr, 'r:', label = 'Initial phys. model')\n",
    "ax.plot(pch_shifted, phys_snr_opt, 'g--', label = 'Optmised phys. model')\n",
    "ax.plot(pch_shifted, snr, 'k+', label = 'Data')\n",
    "plt.xlim([pch_shifted[0]-0.05, pch_shifted[-1]+0.05])\n",
    "plt.xticks([-6, -4, -2, 0, 2, 4])\n",
    "plt.xlabel(\"Input power (dBm)\")\n",
    "plt.ylabel(\"SNR (dB)\")\n",
    "#plt.title(\"Physics-enhanced GP\")\n",
    "plt.legend(prop={'size':10})\n",
    "ax.set_aspect(1.0/ax.get_data_ratio(), adjustable='box')\n",
    "f.patch.set_facecolor('w')\n",
    "#plt.savefig('figures/comp_gn_enhanced_gp_001.pdf', dpi=200,bbox_inches='tight')\n",
    "plt.show()"
   ]
  },
  {
   "cell_type": "code",
   "execution_count": null,
   "id": "acquired-sheet",
   "metadata": {},
   "outputs": [],
   "source": []
  }
 ],
 "metadata": {
  "kernelspec": {
   "display_name": "Python 3",
   "language": "python",
   "name": "python3"
  },
  "language_info": {
   "codemirror_mode": {
    "name": "ipython",
    "version": 3
   },
   "file_extension": ".py",
   "mimetype": "text/x-python",
   "name": "python",
   "nbconvert_exporter": "python",
   "pygments_lexer": "ipython3",
   "version": "3.8.0"
  }
 },
 "nbformat": 4,
 "nbformat_minor": 5
}
